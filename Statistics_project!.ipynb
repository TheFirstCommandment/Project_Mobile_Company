{
 "cells": [
  {
   "cell_type": "markdown",
   "id": "47efe466",
   "metadata": {},
   "source": [
    "<h2>Project description</h2>.\n",
    "    \n",
    "(to the content).\n",
    "Clients are offered two tariff plans: Smart and Ultra. In order to adjust the advertising budget, the commercial department wants to understand which plan brings in more money. You will do a preliminary analysis of the tariffs on a small sample of customers. You have the data of 500 \"Megaline\" (name of the company) users at your disposal: who they are, where they come from, what tariff they use, how many calls and messages each sent in 2018. You need to analyze customer behavior and draw a conclusion - which tariff is better.\n",
    "\n",
    "    *Description of tariffs:*\n",
    "\n",
    "<b>Tariff<b> <span style=\"color:blue\">Smart:</span>\n",
    "\n",
    "<ul><li>Monthly fee: 550 rubles.</li>\n",
    "<li>Included 500 minutes of talk time, 50 messages and 15 GB of Internet traffic<li>\n",
    "Fee for services above the tariff package:\n",
    "One minute of talk time: 3 rubles</li>\n",
    "<li>Message: 3 rubles</li>\n",
    "<li>1 Mb of Internet traffic: 200 rubles</li></ul>\n",
    "    \n",
    "<b>Tariff<b> <span style=\"color:red\">Ultra:</span>\n",
    "\n",
    "<ul><li>Monthly fee: 1950 rubles\n",
    "<li>3000 minutes of talk time, 1000 messages and 30 GB of Internet traffic are included</li>\n",
    "<li>Cost of services over the tariff package:\n",
    "1 minute of talk time: 1 ruble</li>\n",
    "<li>message: 1 ruble</li>\n",
    "<li>1 GB of Internet traffic: 150 rubles</li></ul>\n",
    "\n",
    "<b>Please note: \"Megaline\" always rounds up the values of minutes and megabytes. If the user only spoke for 1 second, a whole minute is counted in the tariff.</b>\n",
    "    \n",
    "    \n",
    "<b>Data description<b>\n",
    "(to content)\n",
    "\n",
    "Table <b>users</b> (information about users):\n",
    "\n",
    "<ul><li>user_id - unique identifier of the user</li>\n",
    "<li>first_name - user's name</li>\n",
    "<li>last_name - user's last name</li>\n",
    "<li>age - user's age (years)</li>\n",
    "<li>reg_date - tariff activation date (day, month, year)</li>\n",
    "<li>churn_date - date when user discontinued the tariff (if value is missing, then tariff was active at the moment of data uploading)</li>\n",
    "<li>city - user's city of residence</li>\n",
    "<li>tariff - name of tariff plan</li></ul>\n",
    "    \n",
    "    \n",
    "Table <b>calls</b> (information about calls):\n",
    "    \n",
    "\n",
    "<ul><li>id - unique number of call</li>\n",
    "<li>call_date - date of the call</li>\n",
    "<li>duration - duration of the call in minutes</li>\n",
    "<li>user_id - identifier of the user who made the call.</li></ul>\n",
    "    \n",
    "Table <b>messages</b> (information about messages):\n",
    "\n",
    "<ul><li>id - message number</li>\n",
    "<li>message_date - message date</li>\n",
    "<li>user_id - identifier of the user who sent the message</li></ul>\n",
    "\n",
    "    \n",
    "Table <b>internet</b> (information about internet sessions):\n",
    "\n",
    "<ul><li>id - unique session number</li>\n",
    "<li>mb_used - amount of the Internet traffic spent during the session (in megabytes)</li>\n",
    "<li>session_date - date of the Internet session</li>\n",
    "<li>user_id - user ID</li></ul>\n",
    "    \n",
    "    \n",
    "<b>Tariffs</b> table (information about tariffs):\n",
    "\n",
    "<ul><li>tariff_name - tariff name</li>\n",
    "<li>rub_monthly_fee - monthly subscription fee in rubles</li>\n",
    "<li>minutes_included - number of minutes of conversation per month, included in the subscription fee</li>\n",
    "<li>messages_included - number of messages per month included in the monthly subscription fee</li>\n",
    "<li>mb_per_month_included - amount of the Internet traffic included in the subscription fee (in megabytes)</li>\n",
    "<li>rub_per_minute - the cost of a minute of conversation over the tariff package (for example, if the tariff has 100 minutes </li><li>of conversation per month, then 101 minutes will be charged)</li>\n",
    "<li>rub_per_message - cost of sending a message over the tariff package</li>\n",
    "<li>rub_per_gb - the cost of one additional gigabyte of Internet traffic above the tariff package (1 gigabyte = 1024 megabytes)</li></ul>"
   ]
  },
  {
   "cell_type": "code",
   "execution_count": 93,
   "id": "62013ace",
   "metadata": {},
   "outputs": [],
   "source": [
    "import pandas as pd\n",
    "import matplotlib.pyplot as plt\n",
    "import numpy as np\n",
    "import seaborn as sns"
   ]
  },
  {
   "cell_type": "code",
   "execution_count": 94,
   "id": "e6f1f4da",
   "metadata": {},
   "outputs": [],
   "source": [
    "calls = pd.read_csv('calls.csv')\n",
    "internet = pd.read_csv('internet.csv')\n",
    "messages = pd.read_csv('messages.csv')\n",
    "tariffs = pd.read_csv('tariffs.csv')\n",
    "users = pd.read_csv('users.csv')"
   ]
  },
  {
   "cell_type": "markdown",
   "id": "800ea66b",
   "metadata": {},
   "source": [
    "Let's take a look at the <span style=\"color:red\">\"calls\"</span> table"
   ]
  },
  {
   "cell_type": "code",
   "execution_count": 95,
   "id": "deafcc20",
   "metadata": {},
   "outputs": [
    {
     "name": "stdout",
     "output_type": "stream",
     "text": [
      "<class 'pandas.core.frame.DataFrame'>\n",
      "RangeIndex: 202607 entries, 0 to 202606\n",
      "Data columns (total 4 columns):\n",
      " #   Column     Non-Null Count   Dtype  \n",
      "---  ------     --------------   -----  \n",
      " 0   id         202607 non-null  object \n",
      " 1   call_date  202607 non-null  object \n",
      " 2   duration   202607 non-null  float64\n",
      " 3   user_id    202607 non-null  int64  \n",
      "dtypes: float64(1), int64(1), object(2)\n",
      "memory usage: 6.2+ MB\n"
     ]
    }
   ],
   "source": [
    "calls.info()"
   ]
  },
  {
   "cell_type": "code",
   "execution_count": 96,
   "id": "57c5780f",
   "metadata": {},
   "outputs": [
    {
     "name": "stdout",
     "output_type": "stream",
     "text": [
      "id\n",
      "['1000_0' '1000_1' '1000_2' ... '1499_217' '1499_218' '1499_219']\n",
      "call_date\n",
      "['2018-07-25' '2018-08-17' '2018-06-11' '2018-09-21' '2018-12-15'\n",
      " '2018-11-02' '2018-10-18' '2018-08-22' '2018-09-15' '2018-08-15'\n",
      " '2018-05-28' '2018-07-05' '2018-09-29' '2018-12-11' '2018-07-27'\n",
      " '2018-08-11' '2018-08-02' '2018-06-15' '2018-12-04' '2018-08-20'\n",
      " '2018-09-25' '2018-07-21' '2018-08-27' '2018-08-25' '2018-12-12'\n",
      " '2018-07-19' '2018-11-14' '2018-12-26' '2018-12-02' '2018-10-08'\n",
      " '2018-09-23' '2018-10-09' '2018-05-25' '2018-06-13' '2018-10-25'\n",
      " '2018-12-29' '2018-07-12' '2018-11-20' '2018-06-05' '2018-10-13'\n",
      " '2018-06-26' '2018-07-14' '2018-07-20' '2018-12-01' '2018-06-17'\n",
      " '2018-10-24' '2018-11-26' '2018-09-19' '2018-05-30' '2018-12-21'\n",
      " '2018-12-23' '2018-07-03' '2018-10-04' '2018-09-16' '2018-11-21'\n",
      " '2018-10-28' '2018-08-29' '2018-08-13' '2018-07-18' '2018-06-03'\n",
      " '2018-09-03' '2018-08-14' '2018-11-01' '2018-05-26' '2018-11-23'\n",
      " '2018-09-30' '2018-11-09' '2018-08-01' '2018-06-18' '2018-10-20'\n",
      " '2018-11-07' '2018-08-04' '2018-09-06' '2018-10-27' '2018-10-15'\n",
      " '2018-10-26' '2018-11-18' '2018-07-30' '2018-10-06' '2018-12-17'\n",
      " '2018-08-24' '2018-09-28' '2018-07-06' '2018-06-02' '2018-09-02'\n",
      " '2018-12-10' '2018-11-03' '2018-07-28' '2018-09-27' '2018-12-24'\n",
      " '2018-07-29' '2018-12-18' '2018-10-16' '2018-10-07' '2018-11-12'\n",
      " '2018-07-23' '2018-08-26' '2018-09-07' '2018-09-14' '2018-07-15'\n",
      " '2018-09-17' '2018-09-09' '2018-10-02' '2018-07-02' '2018-10-21'\n",
      " '2018-07-10' '2018-09-10' '2018-07-11' '2018-09-20' '2018-11-04'\n",
      " '2018-12-05' '2018-06-22' '2018-07-04' '2018-08-09' '2018-12-25'\n",
      " '2018-06-12' '2018-12-22' '2018-07-17' '2018-09-18' '2018-10-14'\n",
      " '2018-11-15' '2018-06-19' '2018-06-07' '2018-11-25' '2018-12-07'\n",
      " '2018-05-31' '2018-06-27' '2018-12-03' '2018-06-28' '2018-09-13'\n",
      " '2018-11-19' '2018-09-11' '2018-06-21' '2018-11-27' '2018-08-10'\n",
      " '2018-08-07' '2018-09-24' '2018-10-01' '2018-06-20' '2018-10-19'\n",
      " '2018-07-26' '2018-09-12' '2018-11-24' '2018-12-09' '2018-06-10'\n",
      " '2018-06-14' '2018-06-24' '2018-11-11' '2018-11-05' '2018-06-29'\n",
      " '2018-09-05' '2018-08-23' '2018-08-19' '2018-08-03' '2018-06-25'\n",
      " '2018-05-27' '2018-07-07' '2018-11-16' '2018-09-08' '2018-10-11'\n",
      " '2018-05-29' '2018-12-19' '2018-08-30' '2018-07-24' '2018-10-03'\n",
      " '2018-12-08' '2018-06-08' '2018-10-05' '2018-11-28' '2018-10-29'\n",
      " '2018-12-27' '2018-11-29' '2018-10-30' '2018-11-08' '2018-07-08'\n",
      " '2018-06-23' '2018-12-06' '2018-12-13' '2018-11-13' '2018-12-14'\n",
      " '2018-12-30' '2018-11-22' '2018-12-28' '2018-12-20' '2018-11-10'\n",
      " '2018-11-30' '2018-12-16' '2018-11-17' '2018-12-31' '2018-08-18'\n",
      " '2018-07-09' '2018-07-16' '2018-08-05' '2018-08-06' '2018-10-31'\n",
      " '2018-09-04' '2018-07-31' '2018-11-06' '2018-10-17' '2018-10-22'\n",
      " '2018-09-26' '2018-10-23' '2018-09-22' '2018-09-01' '2018-08-28'\n",
      " '2018-08-08' '2018-08-12' '2018-07-01' '2018-07-22' '2018-08-31'\n",
      " '2018-10-12' '2018-10-10' '2018-08-21' '2018-08-16' '2018-06-30'\n",
      " '2018-05-14' '2018-05-18' '2018-05-24' '2018-07-13' '2018-06-06'\n",
      " '2018-05-19' '2018-05-23' '2018-05-17' '2018-03-21' '2018-04-09'\n",
      " '2018-05-13' '2018-04-05' '2018-04-12' '2018-01-28' '2018-03-06'\n",
      " '2018-04-23' '2018-03-15' '2018-03-04' '2018-03-09' '2018-02-27'\n",
      " '2018-03-27' '2018-06-16' '2018-03-12' '2018-04-21' '2018-05-09'\n",
      " '2018-03-11' '2018-04-14' '2018-03-07' '2018-01-27' '2018-02-18'\n",
      " '2018-03-01' '2018-02-24' '2018-05-10' '2018-03-08' '2018-02-23'\n",
      " '2018-03-03' '2018-04-22' '2018-02-09' '2018-01-31' '2018-02-19'\n",
      " '2018-03-13' '2018-03-30' '2018-05-08' '2018-04-17' '2018-04-18'\n",
      " '2018-01-29' '2018-04-19' '2018-04-02' '2018-05-05' '2018-04-10'\n",
      " '2018-03-19' '2018-04-06' '2018-04-24' '2018-03-10' '2018-05-22'\n",
      " '2018-03-16' '2018-02-12' '2018-05-01' '2018-02-13' '2018-01-26'\n",
      " '2018-02-01' '2018-02-02' '2018-04-26' '2018-02-10' '2018-04-04'\n",
      " '2018-06-09' '2018-03-18' '2018-03-31' '2018-04-01' '2018-02-20'\n",
      " '2018-02-03' '2018-02-07' '2018-04-16' '2018-02-04' '2018-05-21'\n",
      " '2018-05-02' '2018-04-08' '2018-06-04' '2018-03-20' '2018-02-17'\n",
      " '2018-03-23' '2018-05-04' '2018-05-11' '2018-03-22' '2018-05-03'\n",
      " '2018-02-08' '2018-02-06' '2018-02-15' '2018-05-20' '2018-03-26'\n",
      " '2018-03-28' '2018-03-24' '2018-04-15' '2018-04-30' '2018-02-25'\n",
      " '2018-04-25' '2018-03-25' '2018-05-15' '2018-03-29' '2018-02-22'\n",
      " '2018-04-28' '2018-04-03' '2018-03-17' '2018-04-13' '2018-03-05'\n",
      " '2018-04-11' '2018-01-30' '2018-05-07' '2018-06-01' '2018-02-11'\n",
      " '2018-05-16' '2018-02-16' '2018-04-27' '2018-01-25' '2018-05-06'\n",
      " '2018-02-21' '2018-04-29' '2018-04-07' '2018-02-28' '2018-02-14'\n",
      " '2018-03-02' '2018-03-14' '2018-02-26' '2018-04-20' '2018-05-12'\n",
      " '2018-01-05' '2018-01-13' '2018-01-18' '2018-01-12' '2018-01-20'\n",
      " '2018-01-24' '2018-01-21' '2018-01-22' '2018-01-15' '2018-01-16'\n",
      " '2018-02-05' '2018-01-10' '2018-01-11' '2018-01-08' '2018-01-14'\n",
      " '2018-01-19' '2018-01-04' '2018-01-09' '2018-01-07' '2018-01-02'\n",
      " '2018-01-06' '2018-01-17' '2018-01-03' '2018-01-23' '2018-01-01']\n",
      "duration\n",
      "[ 0.    2.85 13.8  ... 24.36 24.5  26.9 ]\n",
      "user_id\n",
      "[1000 1001 1002 1003 1004 1005 1006 1007 1008 1009 1010 1011 1012 1013\n",
      " 1014 1015 1016 1017 1018 1019 1020 1021 1022 1023 1024 1025 1026 1027\n",
      " 1028 1029 1030 1031 1032 1033 1034 1035 1036 1037 1038 1039 1040 1041\n",
      " 1042 1043 1044 1045 1046 1047 1048 1049 1050 1051 1052 1053 1054 1055\n",
      " 1056 1057 1058 1059 1060 1061 1062 1063 1064 1065 1066 1067 1068 1069\n",
      " 1070 1071 1072 1073 1074 1075 1076 1077 1078 1079 1080 1081 1082 1083\n",
      " 1084 1085 1086 1087 1088 1089 1090 1092 1093 1094 1095 1096 1097 1098\n",
      " 1099 1100 1101 1102 1103 1104 1105 1107 1108 1109 1110 1111 1112 1113\n",
      " 1114 1115 1116 1117 1118 1119 1120 1121 1122 1123 1124 1125 1126 1127\n",
      " 1129 1130 1131 1132 1133 1134 1135 1136 1137 1138 1139 1140 1141 1142\n",
      " 1143 1144 1145 1146 1147 1148 1149 1150 1151 1152 1153 1154 1155 1156\n",
      " 1157 1158 1159 1160 1161 1162 1163 1164 1165 1166 1167 1168 1169 1170\n",
      " 1171 1172 1173 1174 1175 1176 1177 1178 1179 1180 1181 1182 1183 1184\n",
      " 1185 1186 1187 1188 1189 1190 1191 1192 1193 1194 1195 1196 1197 1198\n",
      " 1199 1200 1201 1202 1203 1204 1205 1206 1207 1208 1209 1210 1211 1212\n",
      " 1213 1214 1215 1216 1217 1218 1219 1220 1221 1222 1223 1224 1225 1226\n",
      " 1227 1228 1229 1230 1232 1233 1234 1235 1236 1237 1238 1239 1240 1241\n",
      " 1242 1243 1244 1245 1246 1247 1248 1249 1250 1251 1252 1253 1254 1255\n",
      " 1256 1257 1258 1259 1260 1261 1262 1263 1264 1265 1266 1267 1268 1269\n",
      " 1270 1271 1272 1273 1274 1275 1276 1277 1278 1279 1280 1281 1282 1283\n",
      " 1284 1285 1286 1287 1288 1289 1290 1291 1292 1293 1294 1295 1296 1297\n",
      " 1298 1299 1300 1301 1302 1303 1304 1305 1306 1307 1308 1309 1310 1311\n",
      " 1312 1313 1314 1315 1316 1317 1318 1319 1320 1321 1322 1323 1324 1325\n",
      " 1326 1327 1329 1330 1331 1332 1333 1334 1335 1336 1337 1338 1339 1340\n",
      " 1341 1342 1343 1344 1345 1346 1347 1348 1349 1350 1351 1352 1353 1354\n",
      " 1355 1356 1357 1358 1359 1360 1361 1362 1363 1364 1365 1366 1367 1368\n",
      " 1369 1370 1372 1373 1374 1375 1376 1377 1378 1379 1380 1381 1382 1383\n",
      " 1384 1385 1386 1387 1388 1389 1390 1391 1392 1393 1394 1395 1396 1397\n",
      " 1398 1399 1400 1401 1402 1403 1404 1405 1406 1407 1408 1409 1410 1411\n",
      " 1412 1413 1414 1415 1416 1417 1418 1419 1420 1421 1422 1423 1424 1425\n",
      " 1426 1427 1428 1429 1430 1431 1432 1433 1434 1435 1436 1437 1438 1439\n",
      " 1440 1441 1442 1443 1444 1445 1446 1447 1448 1449 1450 1451 1452 1453\n",
      " 1454 1455 1456 1457 1458 1459 1460 1461 1462 1463 1464 1465 1466 1467\n",
      " 1468 1469 1470 1471 1472 1474 1475 1476 1477 1478 1479 1480 1481 1482\n",
      " 1483 1484 1485 1486 1487 1488 1490 1491 1492 1493 1494 1495 1496 1497\n",
      " 1498 1499]\n"
     ]
    }
   ],
   "source": [
    "for column in calls.columns:\n",
    "    print(column)\n",
    "    print(calls[column].unique())"
   ]
  },
  {
   "cell_type": "code",
   "execution_count": 97,
   "id": "f8cebea3",
   "metadata": {},
   "outputs": [
    {
     "data": {
      "text/plain": [
       "1000_0      1\n",
       "1344_881    1\n",
       "1344_883    1\n",
       "1344_884    1\n",
       "1344_885    1\n",
       "           ..\n",
       "1171_562    1\n",
       "1171_563    1\n",
       "1171_564    1\n",
       "1171_565    1\n",
       "1499_219    1\n",
       "Name: id, Length: 202607, dtype: int64"
      ]
     },
     "execution_count": 97,
     "metadata": {},
     "output_type": "execute_result"
    }
   ],
   "source": [
    "calls['id'].value_counts()"
   ]
  },
  {
   "cell_type": "code",
   "execution_count": 98,
   "id": "d2457e8a",
   "metadata": {},
   "outputs": [
    {
     "data": {
      "text/plain": [
       "2018-12-31    1435\n",
       "2018-12-29    1202\n",
       "2018-12-30    1192\n",
       "2018-12-22    1158\n",
       "2018-12-26    1149\n",
       "              ... \n",
       "2018-01-05      20\n",
       "2018-01-07      18\n",
       "2018-01-02       9\n",
       "2018-01-03       7\n",
       "2018-01-01       5\n",
       "Name: call_date, Length: 365, dtype: int64"
      ]
     },
     "execution_count": 98,
     "metadata": {},
     "output_type": "execute_result"
    }
   ],
   "source": [
    "calls['call_date'].value_counts()"
   ]
  },
  {
   "cell_type": "code",
   "execution_count": 99,
   "id": "baae9356",
   "metadata": {},
   "outputs": [
    {
     "data": {
      "text/plain": [
       "0.00     39613\n",
       "4.49       142\n",
       "5.50       142\n",
       "6.15       141\n",
       "6.38       141\n",
       "         ...  \n",
       "26.94        1\n",
       "32.19        1\n",
       "26.32        1\n",
       "27.41        1\n",
       "26.90        1\n",
       "Name: duration, Length: 2871, dtype: int64"
      ]
     },
     "execution_count": 99,
     "metadata": {},
     "output_type": "execute_result"
    }
   ],
   "source": [
    "calls['duration'].value_counts()"
   ]
  },
  {
   "cell_type": "code",
   "execution_count": 100,
   "id": "bebfb3d6",
   "metadata": {},
   "outputs": [
    {
     "data": {
      "text/plain": [
       "1377    1760\n",
       "1168    1692\n",
       "1375    1560\n",
       "1453    1440\n",
       "1196    1240\n",
       "        ... \n",
       "1397      33\n",
       "1442      28\n",
       "1373      24\n",
       "1016      20\n",
       "1257      14\n",
       "Name: user_id, Length: 492, dtype: int64"
      ]
     },
     "execution_count": 100,
     "metadata": {},
     "output_type": "execute_result"
    }
   ],
   "source": [
    "calls['user_id'].value_counts()"
   ]
  },
  {
   "cell_type": "markdown",
   "id": "981b95bf",
   "metadata": {},
   "source": [
    "Calls that lasted less than a minute we will count as a minute, because this is how company does it"
   ]
  },
  {
   "cell_type": "code",
   "execution_count": null,
   "id": "e0716bbf",
   "metadata": {},
   "outputs": [],
   "source": []
  },
  {
   "cell_type": "code",
   "execution_count": 101,
   "id": "1a647c16",
   "metadata": {},
   "outputs": [],
   "source": [
    "calls_under_min = calls.query('0 <duration< 0.99 ')"
   ]
  },
  {
   "cell_type": "code",
   "execution_count": 102,
   "id": "0657a5e8",
   "metadata": {},
   "outputs": [
    {
     "data": {
      "text/plain": [
       "0.23    115\n",
       "0.96    105\n",
       "0.68    103\n",
       "0.83    102\n",
       "0.98    101\n",
       "       ... \n",
       "0.21     67\n",
       "0.11     67\n",
       "0.53     64\n",
       "0.52     63\n",
       "0.14     63\n",
       "Name: duration, Length: 98, dtype: int64"
      ]
     },
     "execution_count": 102,
     "metadata": {},
     "output_type": "execute_result"
    }
   ],
   "source": [
    "calls_under_min['duration'].value_counts().sort_values(ascending=False)"
   ]
  },
  {
   "cell_type": "code",
   "execution_count": 103,
   "id": "0e45b8aa",
   "metadata": {},
   "outputs": [],
   "source": [
    "calls['duration'] = calls['duration'].apply(np.ceil)"
   ]
  },
  {
   "cell_type": "markdown",
   "id": "d284ab39",
   "metadata": {},
   "source": [
    "<h3>Let's take a look how call duration distributes using histogramm</h3>"
   ]
  },
  {
   "cell_type": "code",
   "execution_count": 104,
   "id": "b8e4d950",
   "metadata": {},
   "outputs": [
    {
     "data": {
      "text/plain": [
       "<AxesSubplot:>"
      ]
     },
     "execution_count": 104,
     "metadata": {},
     "output_type": "execute_result"
    },
    {
     "data": {
      "image/png": "[encoded data removed]",
      "text/plain": [
       "<Figure size 640x480 with 1 Axes>"
      ]
     },
     "metadata": {},
     "output_type": "display_data"
    }
   ],
   "source": [
    "calls['duration'].hist(bins=50)"
   ]
  },
  {
   "cell_type": "markdown",
   "id": "c755643f",
   "metadata": {},
   "source": [
    "For the sake of being able to work with dates, let us convert the dates to the datetime format\n",
    "\n",
    "\n"
   ]
  },
  {
   "cell_type": "code",
   "execution_count": 105,
   "id": "824423f7",
   "metadata": {},
   "outputs": [],
   "source": [
    "calls['call_date'] = pd.to_datetime(calls['call_date'])\n",
    "calls['month'] = calls['call_date'].dt.month"
   ]
  },
  {
   "cell_type": "code",
   "execution_count": 106,
   "id": "0e11d747",
   "metadata": {},
   "outputs": [
    {
     "name": "stdout",
     "output_type": "stream",
     "text": [
      "id\n",
      "['1000_0' '1000_1' '1000_2' ... '1499_181' '1499_182' '1499_183']\n",
      "message_date\n",
      "['2018-06-27' '2018-10-08' '2018-08-04' '2018-06-16' '2018-12-05'\n",
      " '2018-06-20' '2018-11-19' '2018-10-29' '2018-06-25' '2018-12-18'\n",
      " '2018-05-30' '2018-07-06' '2018-08-20' '2018-10-30' '2018-09-14'\n",
      " '2018-08-28' '2018-06-29' '2018-07-07' '2018-05-29' '2018-05-28'\n",
      " '2018-08-15' '2018-07-29' '2018-12-07' '2018-12-25' '2018-10-31'\n",
      " '2018-07-30' '2018-11-05' '2018-12-15' '2018-12-04' '2018-06-30'\n",
      " '2018-12-22' '2018-10-02' '2018-08-29' '2018-09-09' '2018-07-19'\n",
      " '2018-09-04' '2018-07-15' '2018-10-25' '2018-12-08' '2018-06-01'\n",
      " '2018-06-12' '2018-12-21' '2018-10-07' '2018-08-30' '2018-06-04'\n",
      " '2018-10-01' '2018-06-22' '2018-10-12' '2018-10-15' '2018-10-24'\n",
      " '2018-09-20' '2018-08-22' '2018-09-17' '2018-08-27' '2018-07-26'\n",
      " '2018-06-05' '2018-11-16' '2018-09-06' '2018-11-26' '2018-11-18'\n",
      " '2018-09-21' '2018-07-11' '2018-07-16' '2018-11-08' '2018-07-25'\n",
      " '2018-09-13' '2018-08-13' '2018-12-31' '2018-06-10' '2018-06-28'\n",
      " '2018-09-18' '2018-10-11' '2018-12-12' '2018-07-12' '2018-09-01'\n",
      " '2018-07-23' '2018-09-22' '2018-08-17' '2018-09-29' '2018-07-22'\n",
      " '2018-06-18' '2018-06-14' '2018-12-10' '2018-11-29' '2018-11-21'\n",
      " '2018-12-28' '2018-11-30' '2018-08-31' '2018-06-26' '2018-07-21'\n",
      " '2018-11-15' '2018-10-06' '2018-06-13' '2018-12-29' '2018-11-10'\n",
      " '2018-08-24' '2018-11-07' '2018-09-19' '2018-08-10' '2018-07-08'\n",
      " '2018-05-25' '2018-08-21' '2018-07-28' '2018-07-31' '2018-11-03'\n",
      " '2018-11-04' '2018-10-26' '2018-07-01' '2018-09-23' '2018-08-25'\n",
      " '2018-07-18' '2018-11-02' '2018-05-27' '2018-12-03' '2018-11-23'\n",
      " '2018-10-05' '2018-11-12' '2018-07-10' '2018-06-24' '2018-10-17'\n",
      " '2018-11-22' '2018-11-09' '2018-11-24' '2018-10-23' '2018-10-19'\n",
      " '2018-09-30' '2018-06-09' '2018-12-06' '2018-12-11' '2018-12-01'\n",
      " '2018-12-19' '2018-09-02' '2018-10-22' '2018-08-03' '2018-11-06'\n",
      " '2018-12-26' '2018-09-24' '2018-09-07' '2018-08-12' '2018-10-20'\n",
      " '2018-12-27' '2018-12-23' '2018-07-02' '2018-12-02' '2018-09-11'\n",
      " '2018-07-27' '2018-09-26' '2018-08-14' '2018-11-28' '2018-07-13'\n",
      " '2018-08-26' '2018-08-09' '2018-10-28' '2018-10-18' '2018-06-03'\n",
      " '2018-08-23' '2018-12-16' '2018-10-13' '2018-12-14' '2018-09-08'\n",
      " '2018-08-05' '2018-12-30' '2018-08-08' '2018-06-23' '2018-12-24'\n",
      " '2018-07-14' '2018-09-28' '2018-07-04' '2018-10-27' '2018-10-14'\n",
      " '2018-08-02' '2018-11-17' '2018-08-18' '2018-07-24' '2018-06-17'\n",
      " '2018-09-16' '2018-06-07' '2018-09-15' '2018-10-21' '2018-08-01'\n",
      " '2018-06-11' '2018-07-20' '2018-12-17' '2018-10-03' '2018-06-08'\n",
      " '2018-12-13' '2018-11-01' '2018-05-31' '2018-09-03' '2018-08-16'\n",
      " '2018-07-09' '2018-11-27' '2018-10-16' '2018-11-11' '2018-07-03'\n",
      " '2018-11-14' '2018-12-09' '2018-08-07' '2018-10-09' '2018-11-25'\n",
      " '2018-09-27' '2018-06-19' '2018-08-06' '2018-09-25' '2018-09-12'\n",
      " '2018-11-20' '2018-12-20' '2018-11-13' '2018-10-10' '2018-09-05'\n",
      " '2018-10-04' '2018-09-10' '2018-08-19' '2018-05-21' '2018-06-15'\n",
      " '2018-05-14' '2018-05-16' '2018-05-15' '2018-07-17' '2018-05-24'\n",
      " '2018-08-11' '2018-05-26' '2018-07-05' '2018-05-17' '2018-05-19'\n",
      " '2018-06-02' '2018-05-18' '2018-05-23' '2018-06-21' '2018-05-22'\n",
      " '2018-05-20' '2018-06-06' '2018-03-03' '2018-04-10' '2018-02-24'\n",
      " '2018-02-08' '2018-02-25' '2018-04-27' '2018-03-10' '2018-03-25'\n",
      " '2018-04-15' '2018-03-19' '2018-03-01' '2018-02-15' '2018-04-05'\n",
      " '2018-02-23' '2018-05-02' '2018-05-07' '2018-05-13' '2018-03-17'\n",
      " '2018-03-20' '2018-02-20' '2018-01-25' '2018-04-19' '2018-02-13'\n",
      " '2018-02-26' '2018-01-26' '2018-03-07' '2018-04-07' '2018-01-28'\n",
      " '2018-02-28' '2018-02-17' '2018-03-21' '2018-03-15' '2018-03-13'\n",
      " '2018-04-01' '2018-03-08' '2018-04-04' '2018-04-12' '2018-03-22'\n",
      " '2018-04-24' '2018-04-06' '2018-04-08' '2018-03-14' '2018-03-05'\n",
      " '2018-05-04' '2018-03-02' '2018-02-14' '2018-04-20' '2018-02-19'\n",
      " '2018-04-21' '2018-03-29' '2018-05-05' '2018-04-14' '2018-02-09'\n",
      " '2018-02-21' '2018-04-13' '2018-03-16' '2018-05-12' '2018-04-03'\n",
      " '2018-03-30' '2018-02-10' '2018-03-24' '2018-03-06' '2018-02-07'\n",
      " '2018-04-22' '2018-02-03' '2018-03-27' '2018-05-09' '2018-02-16'\n",
      " '2018-03-04' '2018-04-09' '2018-03-26' '2018-03-09' '2018-04-26'\n",
      " '2018-05-10' '2018-04-16' '2018-05-08' '2018-04-25' '2018-02-06'\n",
      " '2018-04-02' '2018-01-29' '2018-02-02' '2018-02-05' '2018-04-29'\n",
      " '2018-02-22' '2018-01-27' '2018-02-18' '2018-04-11' '2018-05-01'\n",
      " '2018-04-23' '2018-04-28' '2018-05-03' '2018-05-11' '2018-04-17'\n",
      " '2018-03-28' '2018-04-30' '2018-05-06' '2018-03-23' '2018-04-18'\n",
      " '2018-03-31' '2018-01-23' '2018-01-04' '2018-01-14' '2018-01-19'\n",
      " '2018-01-30' '2018-01-11' '2018-03-18' '2018-01-16' '2018-02-01'\n",
      " '2018-01-18' '2018-01-10' '2018-01-21' '2018-03-11' '2018-01-09'\n",
      " '2018-02-04' '2018-01-17' '2018-01-15' '2018-01-12' '2018-01-20'\n",
      " '2018-01-07' '2018-01-05' '2018-02-11' '2018-03-12' '2018-01-08'\n",
      " '2018-01-31' '2018-02-27' '2018-02-12' '2018-01-03' '2018-01-02'\n",
      " '2018-01-22' '2018-01-24' '2018-01-13' '2018-01-06']\n",
      "user_id\n",
      "[1000 1002 1003 1004 1005 1007 1008 1009 1011 1012 1013 1014 1015 1016\n",
      " 1018 1019 1020 1021 1022 1023 1025 1026 1027 1028 1029 1030 1031 1032\n",
      " 1033 1034 1035 1036 1037 1038 1039 1041 1042 1043 1044 1045 1046 1047\n",
      " 1048 1050 1051 1052 1054 1055 1056 1057 1058 1059 1060 1061 1062 1064\n",
      " 1065 1066 1067 1068 1069 1070 1071 1072 1073 1074 1075 1076 1077 1079\n",
      " 1080 1081 1082 1083 1084 1086 1087 1088 1089 1090 1091 1092 1093 1094\n",
      " 1096 1097 1098 1099 1100 1102 1103 1104 1105 1106 1108 1109 1110 1111\n",
      " 1112 1113 1115 1119 1121 1122 1123 1124 1125 1126 1127 1130 1131 1133\n",
      " 1134 1135 1136 1137 1138 1139 1140 1141 1142 1144 1145 1146 1147 1148\n",
      " 1149 1150 1151 1154 1155 1156 1158 1159 1160 1161 1163 1164 1165 1166\n",
      " 1167 1168 1169 1170 1171 1172 1173 1174 1176 1178 1180 1181 1182 1183\n",
      " 1184 1186 1187 1188 1189 1190 1191 1192 1193 1194 1196 1197 1198 1199\n",
      " 1200 1202 1203 1205 1206 1207 1209 1211 1212 1213 1214 1215 1216 1217\n",
      " 1218 1219 1221 1222 1223 1226 1227 1229 1230 1231 1232 1233 1234 1235\n",
      " 1236 1237 1238 1239 1241 1243 1244 1245 1246 1247 1249 1250 1251 1252\n",
      " 1253 1256 1257 1258 1259 1261 1262 1263 1264 1265 1266 1267 1268 1269\n",
      " 1270 1271 1272 1273 1274 1275 1276 1277 1278 1279 1280 1281 1282 1283\n",
      " 1284 1285 1286 1287 1288 1289 1293 1294 1295 1296 1298 1299 1300 1302\n",
      " 1303 1304 1307 1308 1309 1310 1311 1312 1313 1314 1315 1316 1317 1318\n",
      " 1319 1320 1321 1323 1324 1325 1326 1327 1328 1329 1330 1331 1332 1333\n",
      " 1335 1336 1337 1338 1340 1341 1342 1343 1344 1345 1346 1347 1348 1349\n",
      " 1350 1351 1352 1353 1354 1355 1356 1357 1358 1359 1361 1362 1364 1365\n",
      " 1366 1368 1369 1372 1373 1374 1375 1377 1378 1379 1380 1381 1382 1383\n",
      " 1384 1385 1386 1387 1389 1390 1391 1392 1393 1394 1395 1396 1398 1399\n",
      " 1400 1401 1402 1403 1404 1405 1406 1407 1408 1409 1410 1411 1412 1413\n",
      " 1414 1415 1416 1417 1418 1419 1420 1421 1422 1423 1424 1425 1426 1427\n",
      " 1430 1431 1432 1433 1434 1436 1437 1438 1439 1440 1441 1443 1444 1445\n",
      " 1446 1447 1448 1449 1450 1451 1452 1453 1454 1455 1457 1458 1459 1460\n",
      " 1461 1463 1464 1465 1467 1468 1470 1471 1472 1473 1474 1475 1476 1477\n",
      " 1478 1480 1481 1482 1483 1484 1485 1486 1487 1488 1489 1490 1491 1492\n",
      " 1493 1495 1496 1497 1498 1499]\n"
     ]
    }
   ],
   "source": [
    "for column in messages.columns:\n",
    "    print(column)\n",
    "    print(messages[column].unique())"
   ]
  },
  {
   "cell_type": "code",
   "execution_count": 107,
   "id": "90d262f5",
   "metadata": {},
   "outputs": [
    {
     "name": "stdout",
     "output_type": "stream",
     "text": [
      "<class 'pandas.core.frame.DataFrame'>\n",
      "RangeIndex: 123036 entries, 0 to 123035\n",
      "Data columns (total 3 columns):\n",
      " #   Column        Non-Null Count   Dtype \n",
      "---  ------        --------------   ----- \n",
      " 0   id            123036 non-null  object\n",
      " 1   message_date  123036 non-null  object\n",
      " 2   user_id       123036 non-null  int64 \n",
      "dtypes: int64(1), object(2)\n",
      "memory usage: 2.8+ MB\n"
     ]
    }
   ],
   "source": [
    "messages.info()"
   ]
  },
  {
   "cell_type": "code",
   "execution_count": 108,
   "id": "6524d715",
   "metadata": {},
   "outputs": [],
   "source": [
    "messages['message_date'] = pd.to_datetime(messages['message_date'])"
   ]
  },
  {
   "cell_type": "code",
   "execution_count": 109,
   "id": "c652f717",
   "metadata": {},
   "outputs": [
    {
     "name": "stdout",
     "output_type": "stream",
     "text": [
      "<class 'pandas.core.frame.DataFrame'>\n",
      "RangeIndex: 123036 entries, 0 to 123035\n",
      "Data columns (total 3 columns):\n",
      " #   Column        Non-Null Count   Dtype         \n",
      "---  ------        --------------   -----         \n",
      " 0   id            123036 non-null  object        \n",
      " 1   message_date  123036 non-null  datetime64[ns]\n",
      " 2   user_id       123036 non-null  int64         \n",
      "dtypes: datetime64[ns](1), int64(1), object(1)\n",
      "memory usage: 2.8+ MB\n"
     ]
    }
   ],
   "source": [
    "messages.info()"
   ]
  },
  {
   "cell_type": "markdown",
   "id": "739d12de",
   "metadata": {},
   "source": [
    "<h3> No issues with the \"messages\" table"
   ]
  },
  {
   "cell_type": "code",
   "execution_count": 110,
   "id": "7622e05b",
   "metadata": {},
   "outputs": [
    {
     "data": {
      "text/html": [
       "<div>\n",
       "<style scoped>\n",
       "    .dataframe tbody tr th:only-of-type {\n",
       "        vertical-align: middle;\n",
       "    }\n",
       "\n",
       "    .dataframe tbody tr th {\n",
       "        vertical-align: top;\n",
       "    }\n",
       "\n",
       "    .dataframe thead th {\n",
       "        text-align: right;\n",
       "    }\n",
       "</style>\n",
       "<table border=\"1\" class=\"dataframe\">\n",
       "  <thead>\n",
       "    <tr style=\"text-align: right;\">\n",
       "      <th></th>\n",
       "      <th>Unnamed: 0</th>\n",
       "      <th>id</th>\n",
       "      <th>mb_used</th>\n",
       "      <th>session_date</th>\n",
       "      <th>user_id</th>\n",
       "    </tr>\n",
       "  </thead>\n",
       "  <tbody>\n",
       "    <tr>\n",
       "      <th>0</th>\n",
       "      <td>0</td>\n",
       "      <td>1000_0</td>\n",
       "      <td>112.95</td>\n",
       "      <td>2018-11-25</td>\n",
       "      <td>1000</td>\n",
       "    </tr>\n",
       "    <tr>\n",
       "      <th>1</th>\n",
       "      <td>1</td>\n",
       "      <td>1000_1</td>\n",
       "      <td>1052.81</td>\n",
       "      <td>2018-09-07</td>\n",
       "      <td>1000</td>\n",
       "    </tr>\n",
       "    <tr>\n",
       "      <th>2</th>\n",
       "      <td>2</td>\n",
       "      <td>1000_2</td>\n",
       "      <td>1197.26</td>\n",
       "      <td>2018-06-25</td>\n",
       "      <td>1000</td>\n",
       "    </tr>\n",
       "    <tr>\n",
       "      <th>3</th>\n",
       "      <td>3</td>\n",
       "      <td>1000_3</td>\n",
       "      <td>550.27</td>\n",
       "      <td>2018-08-22</td>\n",
       "      <td>1000</td>\n",
       "    </tr>\n",
       "    <tr>\n",
       "      <th>4</th>\n",
       "      <td>4</td>\n",
       "      <td>1000_4</td>\n",
       "      <td>302.56</td>\n",
       "      <td>2018-09-24</td>\n",
       "      <td>1000</td>\n",
       "    </tr>\n",
       "    <tr>\n",
       "      <th>...</th>\n",
       "      <td>...</td>\n",
       "      <td>...</td>\n",
       "      <td>...</td>\n",
       "      <td>...</td>\n",
       "      <td>...</td>\n",
       "    </tr>\n",
       "    <tr>\n",
       "      <th>149391</th>\n",
       "      <td>149391</td>\n",
       "      <td>1499_152</td>\n",
       "      <td>318.90</td>\n",
       "      <td>2018-10-03</td>\n",
       "      <td>1499</td>\n",
       "    </tr>\n",
       "    <tr>\n",
       "      <th>149392</th>\n",
       "      <td>149392</td>\n",
       "      <td>1499_153</td>\n",
       "      <td>490.13</td>\n",
       "      <td>2018-12-14</td>\n",
       "      <td>1499</td>\n",
       "    </tr>\n",
       "    <tr>\n",
       "      <th>149393</th>\n",
       "      <td>149393</td>\n",
       "      <td>1499_154</td>\n",
       "      <td>0.00</td>\n",
       "      <td>2018-10-27</td>\n",
       "      <td>1499</td>\n",
       "    </tr>\n",
       "    <tr>\n",
       "      <th>149394</th>\n",
       "      <td>149394</td>\n",
       "      <td>1499_155</td>\n",
       "      <td>1246.32</td>\n",
       "      <td>2018-11-26</td>\n",
       "      <td>1499</td>\n",
       "    </tr>\n",
       "    <tr>\n",
       "      <th>149395</th>\n",
       "      <td>149395</td>\n",
       "      <td>1499_156</td>\n",
       "      <td>544.37</td>\n",
       "      <td>2018-10-26</td>\n",
       "      <td>1499</td>\n",
       "    </tr>\n",
       "  </tbody>\n",
       "</table>\n",
       "<p>149396 rows × 5 columns</p>\n",
       "</div>"
      ],
      "text/plain": [
       "        Unnamed: 0        id  mb_used session_date  user_id\n",
       "0                0    1000_0   112.95   2018-11-25     1000\n",
       "1                1    1000_1  1052.81   2018-09-07     1000\n",
       "2                2    1000_2  1197.26   2018-06-25     1000\n",
       "3                3    1000_3   550.27   2018-08-22     1000\n",
       "4                4    1000_4   302.56   2018-09-24     1000\n",
       "...            ...       ...      ...          ...      ...\n",
       "149391      149391  1499_152   318.90   2018-10-03     1499\n",
       "149392      149392  1499_153   490.13   2018-12-14     1499\n",
       "149393      149393  1499_154     0.00   2018-10-27     1499\n",
       "149394      149394  1499_155  1246.32   2018-11-26     1499\n",
       "149395      149395  1499_156   544.37   2018-10-26     1499\n",
       "\n",
       "[149396 rows x 5 columns]"
      ]
     },
     "execution_count": 110,
     "metadata": {},
     "output_type": "execute_result"
    }
   ],
   "source": [
    "internet"
   ]
  },
  {
   "cell_type": "code",
   "execution_count": 111,
   "id": "f58804ad",
   "metadata": {},
   "outputs": [
    {
     "name": "stdout",
     "output_type": "stream",
     "text": [
      "Unnamed: 0\n",
      "[     0      1      2 ... 149393 149394 149395]\n",
      "id\n",
      "['1000_0' '1000_1' '1000_2' ... '1499_154' '1499_155' '1499_156']\n",
      "mb_used\n",
      "[ 112.95 1052.81 1197.26 ...  460.75  247.59   23.72]\n",
      "session_date\n",
      "['2018-11-25' '2018-09-07' '2018-06-25' '2018-08-22' '2018-09-24'\n",
      " '2018-10-02' '2018-07-11' '2018-10-08' '2018-09-03' '2018-09-27'\n",
      " '2018-08-28' '2018-06-20' '2018-08-09' '2018-08-11' '2018-07-21'\n",
      " '2018-06-09' '2018-06-03' '2018-11-01' '2018-11-28' '2018-08-20'\n",
      " '2018-12-06' '2018-07-02' '2018-10-19' '2018-10-30' '2018-06-17'\n",
      " '2018-11-06' '2018-09-14' '2018-11-15' '2018-08-26' '2018-10-15'\n",
      " '2018-11-27' '2018-10-17' '2018-10-07' '2018-08-05' '2018-07-06'\n",
      " '2018-10-03' '2018-11-02' '2018-06-30' '2018-11-17' '2018-06-06'\n",
      " '2018-11-20' '2018-05-31' '2018-10-29' '2018-12-10' '2018-07-04'\n",
      " '2018-12-28' '2018-05-28' '2018-09-15' '2018-09-09' '2018-09-17'\n",
      " '2018-09-01' '2018-11-03' '2018-11-04' '2018-06-16' '2018-12-07'\n",
      " '2018-08-25' '2018-06-15' '2018-06-26' '2018-10-06' '2018-12-01'\n",
      " '2018-10-14' '2018-06-07' '2018-12-15' '2018-10-04' '2018-08-13'\n",
      " '2018-07-10' '2018-07-07' '2018-08-17' '2018-06-28' '2018-08-07'\n",
      " '2018-06-29' '2018-07-13' '2018-07-27' '2018-11-30' '2018-07-26'\n",
      " '2018-05-26' '2018-11-16' '2018-11-13' '2018-11-11' '2018-12-18'\n",
      " '2018-06-18' '2018-12-02' '2018-06-14' '2018-12-25' '2018-06-24'\n",
      " '2018-12-05' '2018-06-10' '2018-10-16' '2018-10-21' '2018-07-09'\n",
      " '2018-07-17' '2018-08-04' '2018-06-01' '2018-06-13' '2018-06-27'\n",
      " '2018-11-14' '2018-06-19' '2018-12-29' '2018-07-08' '2018-11-23'\n",
      " '2018-07-25' '2018-06-21' '2018-07-23' '2018-08-31' '2018-09-08'\n",
      " '2018-07-14' '2018-07-29' '2018-06-05' '2018-12-21' '2018-12-24'\n",
      " '2018-09-19' '2018-12-19' '2018-09-06' '2018-10-13' '2018-09-04'\n",
      " '2018-09-30' '2018-07-28' '2018-10-22' '2018-08-02' '2018-11-07'\n",
      " '2018-11-08' '2018-08-21' '2018-08-30' '2018-07-31' '2018-12-30'\n",
      " '2018-06-08' '2018-12-03' '2018-09-16' '2018-09-26' '2018-08-27'\n",
      " '2018-06-23' '2018-08-14' '2018-12-16' '2018-11-22' '2018-11-18'\n",
      " '2018-12-08' '2018-11-29' '2018-12-13' '2018-12-26' '2018-11-26'\n",
      " '2018-12-09' '2018-11-09' '2018-12-04' '2018-11-19' '2018-11-12'\n",
      " '2018-12-20' '2018-11-21' '2018-12-22' '2018-12-23' '2018-08-24'\n",
      " '2018-12-17' '2018-10-23' '2018-09-12' '2018-10-25' '2018-09-10'\n",
      " '2018-12-27' '2018-09-11' '2018-09-20' '2018-08-06' '2018-11-24'\n",
      " '2018-07-15' '2018-12-31' '2018-07-18' '2018-07-30' '2018-12-11'\n",
      " '2018-10-24' '2018-08-29' '2018-06-22' '2018-07-24' '2018-09-05'\n",
      " '2018-08-01' '2018-07-22' '2018-10-01' '2018-09-23' '2018-09-13'\n",
      " '2018-08-23' '2018-07-03' '2018-11-10' '2018-08-12' '2018-09-22'\n",
      " '2018-07-20' '2018-10-09' '2018-07-12' '2018-10-20' '2018-10-11'\n",
      " '2018-10-05' '2018-08-08' '2018-09-29' '2018-08-15' '2018-09-21'\n",
      " '2018-07-16' '2018-09-25' '2018-08-03' '2018-10-26' '2018-09-02'\n",
      " '2018-09-28' '2018-10-18' '2018-10-27' '2018-07-01' '2018-12-12'\n",
      " '2018-12-14' '2018-08-10' '2018-08-16' '2018-08-18' '2018-10-31'\n",
      " '2018-10-28' '2018-10-10' '2018-10-12' '2018-06-11' '2018-05-27'\n",
      " '2018-06-02' '2018-08-19' '2018-05-18' '2018-05-15' '2018-05-16'\n",
      " '2018-05-14' '2018-06-12' '2018-09-18' '2018-05-20' '2018-05-19'\n",
      " '2018-06-04' '2018-05-23' '2018-05-30' '2018-05-21' '2018-07-05'\n",
      " '2018-05-22' '2018-07-19' '2018-02-09' '2018-03-10' '2018-04-12'\n",
      " '2018-03-30' '2018-03-15' '2018-01-28' '2018-04-03' '2018-03-09'\n",
      " '2018-03-06' '2018-02-24' '2018-04-26' '2018-03-05' '2018-05-12'\n",
      " '2018-04-21' '2018-04-24' '2018-03-02' '2018-02-16' '2018-05-03'\n",
      " '2018-03-07' '2018-02-20' '2018-03-19' '2018-01-30' '2018-05-09'\n",
      " '2018-02-07' '2018-03-12' '2018-11-05' '2018-04-01' '2018-04-07'\n",
      " '2018-01-29' '2018-03-16' '2018-03-14' '2018-02-01' '2018-04-29'\n",
      " '2018-02-02' '2018-04-30' '2018-03-17' '2018-04-17' '2018-05-29'\n",
      " '2018-02-27' '2018-03-26' '2018-04-08' '2018-04-02' '2018-02-18'\n",
      " '2018-01-27' '2018-05-01' '2018-02-11' '2018-04-19' '2018-04-25'\n",
      " '2018-02-13' '2018-02-21' '2018-02-04' '2018-03-28' '2018-03-21'\n",
      " '2018-04-11' '2018-03-31' '2018-05-07' '2018-02-17' '2018-03-04'\n",
      " '2018-02-12' '2018-02-14' '2018-05-10' '2018-03-23' '2018-03-22'\n",
      " '2018-04-09' '2018-05-25' '2018-04-22' '2018-04-05' '2018-04-23'\n",
      " '2018-04-14' '2018-04-13' '2018-05-04' '2018-04-20' '2018-03-13'\n",
      " '2018-04-28' '2018-05-08' '2018-03-27' '2018-03-01' '2018-05-02'\n",
      " '2018-04-18' '2018-02-26' '2018-05-24' '2018-04-16' '2018-05-13'\n",
      " '2018-05-06' '2018-03-18' '2018-03-24' '2018-02-28' '2018-04-15'\n",
      " '2018-05-11' '2018-04-06' '2018-03-25' '2018-05-17' '2018-05-05'\n",
      " '2018-04-04' '2018-03-03' '2018-04-27' '2018-03-29' '2018-04-10'\n",
      " '2018-03-20' '2018-01-13' '2018-01-19' '2018-01-23' '2018-01-20'\n",
      " '2018-01-12' '2018-02-23' '2018-01-05' '2018-01-21' '2018-01-31'\n",
      " '2018-01-10' '2018-02-10' '2018-01-15' '2018-01-09' '2018-03-08'\n",
      " '2018-01-18' '2018-02-19' '2018-02-25' '2018-03-11' '2018-01-25'\n",
      " '2018-02-08' '2018-01-22' '2018-02-06' '2018-02-05' '2018-01-06'\n",
      " '2018-01-08' '2018-01-17' '2018-01-11' '2018-01-04' '2018-01-24'\n",
      " '2018-01-26' '2018-01-16' '2018-02-15' '2018-02-22' '2018-02-03'\n",
      " '2018-01-03' '2018-01-14' '2018-01-02' '2018-01-07' '2018-01-01']\n",
      "user_id\n",
      "[1000 1001 1002 1003 1004 1005 1006 1007 1008 1009 1010 1011 1012 1013\n",
      " 1014 1015 1016 1017 1018 1019 1020 1021 1022 1023 1024 1025 1026 1027\n",
      " 1028 1029 1030 1031 1032 1033 1034 1035 1036 1037 1038 1039 1040 1041\n",
      " 1042 1043 1044 1045 1046 1047 1048 1049 1050 1051 1052 1053 1054 1055\n",
      " 1056 1057 1058 1059 1060 1061 1062 1063 1064 1065 1066 1067 1068 1069\n",
      " 1070 1071 1072 1073 1074 1075 1076 1077 1078 1079 1080 1081 1082 1083\n",
      " 1084 1085 1086 1087 1088 1089 1090 1091 1092 1093 1094 1095 1096 1097\n",
      " 1098 1099 1100 1101 1102 1103 1104 1105 1106 1107 1108 1109 1110 1111\n",
      " 1112 1113 1114 1115 1116 1117 1118 1119 1120 1121 1122 1123 1124 1125\n",
      " 1126 1127 1129 1130 1131 1132 1133 1134 1135 1136 1137 1138 1139 1140\n",
      " 1141 1142 1143 1144 1145 1146 1147 1148 1149 1150 1151 1152 1153 1154\n",
      " 1155 1156 1157 1158 1159 1160 1161 1162 1163 1164 1165 1166 1167 1168\n",
      " 1169 1170 1171 1172 1173 1174 1175 1176 1177 1178 1179 1180 1181 1182\n",
      " 1183 1184 1185 1186 1187 1188 1189 1190 1191 1192 1193 1194 1195 1196\n",
      " 1197 1198 1199 1200 1201 1202 1203 1204 1205 1206 1207 1208 1209 1210\n",
      " 1211 1212 1213 1214 1215 1216 1217 1218 1219 1220 1221 1222 1223 1224\n",
      " 1225 1226 1227 1228 1229 1230 1231 1232 1233 1234 1235 1236 1237 1238\n",
      " 1239 1240 1241 1242 1243 1244 1245 1246 1247 1248 1249 1250 1251 1252\n",
      " 1253 1254 1255 1256 1257 1258 1259 1260 1261 1262 1263 1264 1265 1266\n",
      " 1267 1268 1269 1270 1271 1272 1274 1275 1276 1277 1278 1279 1280 1281\n",
      " 1282 1283 1284 1285 1286 1287 1288 1289 1290 1291 1292 1293 1294 1295\n",
      " 1296 1297 1298 1299 1300 1301 1302 1303 1304 1305 1306 1307 1308 1309\n",
      " 1310 1311 1312 1313 1314 1315 1316 1317 1318 1319 1320 1321 1322 1323\n",
      " 1324 1325 1326 1327 1328 1329 1330 1331 1332 1333 1334 1335 1336 1337\n",
      " 1338 1339 1340 1341 1342 1343 1344 1345 1346 1347 1348 1349 1350 1351\n",
      " 1352 1353 1354 1355 1356 1357 1358 1359 1360 1361 1362 1363 1364 1365\n",
      " 1366 1367 1368 1369 1370 1372 1373 1374 1375 1376 1377 1378 1379 1380\n",
      " 1381 1382 1383 1384 1385 1386 1387 1388 1389 1390 1391 1392 1393 1394\n",
      " 1395 1396 1397 1398 1399 1400 1401 1402 1403 1404 1405 1406 1407 1408\n",
      " 1409 1410 1411 1412 1413 1414 1415 1416 1417 1418 1419 1420 1421 1422\n",
      " 1423 1424 1425 1426 1427 1428 1429 1430 1431 1432 1433 1434 1435 1436\n",
      " 1437 1438 1439 1440 1441 1442 1443 1444 1445 1446 1447 1448 1449 1450\n",
      " 1451 1452 1453 1454 1455 1456 1457 1458 1459 1460 1461 1462 1463 1464\n",
      " 1465 1466 1467 1468 1469 1470 1471 1472 1473 1474 1475 1476 1477 1478\n",
      " 1479 1480 1481 1482 1483 1484 1485 1486 1487 1488 1489 1490 1491 1492\n",
      " 1493 1494 1495 1496 1497 1498 1499]\n"
     ]
    }
   ],
   "source": [
    "for column in internet.columns:\n",
    "    print(column)\n",
    "    print(internet[column].unique())"
   ]
  },
  {
   "cell_type": "code",
   "execution_count": 112,
   "id": "6b421ef3",
   "metadata": {},
   "outputs": [
    {
     "name": "stdout",
     "output_type": "stream",
     "text": [
      "<class 'pandas.core.frame.DataFrame'>\n",
      "RangeIndex: 149396 entries, 0 to 149395\n",
      "Data columns (total 5 columns):\n",
      " #   Column        Non-Null Count   Dtype  \n",
      "---  ------        --------------   -----  \n",
      " 0   Unnamed: 0    149396 non-null  int64  \n",
      " 1   id            149396 non-null  object \n",
      " 2   mb_used       149396 non-null  float64\n",
      " 3   session_date  149396 non-null  object \n",
      " 4   user_id       149396 non-null  int64  \n",
      "dtypes: float64(1), int64(2), object(2)\n",
      "memory usage: 5.7+ MB\n"
     ]
    }
   ],
   "source": [
    "internet.info()"
   ]
  },
  {
   "cell_type": "code",
   "execution_count": 113,
   "id": "ec8947aa",
   "metadata": {},
   "outputs": [],
   "source": [
    "internet['session_date'] = pd.to_datetime(internet['session_date'])"
   ]
  },
  {
   "cell_type": "markdown",
   "id": "934b15a6",
   "metadata": {},
   "source": [
    "Let us check the histogramm of internet usage distribution"
   ]
  },
  {
   "cell_type": "code",
   "execution_count": 114,
   "id": "5cff22c9",
   "metadata": {},
   "outputs": [
    {
     "data": {
      "text/plain": [
       "<AxesSubplot:>"
      ]
     },
     "execution_count": 114,
     "metadata": {},
     "output_type": "execute_result"
    },
    {
     "data": {
      "image/png": "[encoded data removed]",
      "text/plain": [
       "<Figure size 640x480 with 1 Axes>"
      ]
     },
     "metadata": {},
     "output_type": "display_data"
    }
   ],
   "source": [
    "internet['mb_used'].hist(bins=50)"
   ]
  },
  {
   "cell_type": "code",
   "execution_count": 115,
   "id": "10b95029",
   "metadata": {},
   "outputs": [],
   "source": [
    "internet['mb_used'] = internet['mb_used'].apply(np.ceil)"
   ]
  },
  {
   "cell_type": "code",
   "execution_count": 116,
   "id": "309e23a2",
   "metadata": {},
   "outputs": [
    {
     "data": {
      "text/plain": [
       "<AxesSubplot:>"
      ]
     },
     "execution_count": 116,
     "metadata": {},
     "output_type": "execute_result"
    },
    {
     "data": {
      "image/png": "[encoded data removed]",
      "text/plain": [
       "<Figure size 640x480 with 1 Axes>"
      ]
     },
     "metadata": {},
     "output_type": "display_data"
    }
   ],
   "source": [
    "internet['mb_used'].hist(bins=50)"
   ]
  },
  {
   "cell_type": "code",
   "execution_count": 117,
   "id": "f2ef9f75",
   "metadata": {},
   "outputs": [
    {
     "data": {
      "text/html": [
       "<div>\n",
       "<style scoped>\n",
       "    .dataframe tbody tr th:only-of-type {\n",
       "        vertical-align: middle;\n",
       "    }\n",
       "\n",
       "    .dataframe tbody tr th {\n",
       "        vertical-align: top;\n",
       "    }\n",
       "\n",
       "    .dataframe thead th {\n",
       "        text-align: right;\n",
       "    }\n",
       "</style>\n",
       "<table border=\"1\" class=\"dataframe\">\n",
       "  <thead>\n",
       "    <tr style=\"text-align: right;\">\n",
       "      <th></th>\n",
       "      <th>Unnamed: 0</th>\n",
       "      <th>id</th>\n",
       "      <th>mb_used</th>\n",
       "      <th>session_date</th>\n",
       "      <th>user_id</th>\n",
       "    </tr>\n",
       "  </thead>\n",
       "  <tbody>\n",
       "    <tr>\n",
       "      <th>11</th>\n",
       "      <td>11</td>\n",
       "      <td>1000_11</td>\n",
       "      <td>0.0</td>\n",
       "      <td>2018-08-28</td>\n",
       "      <td>1000</td>\n",
       "    </tr>\n",
       "    <tr>\n",
       "      <th>38</th>\n",
       "      <td>38</td>\n",
       "      <td>1000_38</td>\n",
       "      <td>0.0</td>\n",
       "      <td>2018-11-27</td>\n",
       "      <td>1000</td>\n",
       "    </tr>\n",
       "    <tr>\n",
       "      <th>46</th>\n",
       "      <td>46</td>\n",
       "      <td>1000_46</td>\n",
       "      <td>0.0</td>\n",
       "      <td>2018-06-30</td>\n",
       "      <td>1000</td>\n",
       "    </tr>\n",
       "    <tr>\n",
       "      <th>67</th>\n",
       "      <td>67</td>\n",
       "      <td>1000_67</td>\n",
       "      <td>0.0</td>\n",
       "      <td>2018-06-16</td>\n",
       "      <td>1000</td>\n",
       "    </tr>\n",
       "    <tr>\n",
       "      <th>72</th>\n",
       "      <td>72</td>\n",
       "      <td>1000_72</td>\n",
       "      <td>0.0</td>\n",
       "      <td>2018-06-15</td>\n",
       "      <td>1000</td>\n",
       "    </tr>\n",
       "    <tr>\n",
       "      <th>...</th>\n",
       "      <td>...</td>\n",
       "      <td>...</td>\n",
       "      <td>...</td>\n",
       "      <td>...</td>\n",
       "      <td>...</td>\n",
       "    </tr>\n",
       "    <tr>\n",
       "      <th>149380</th>\n",
       "      <td>149380</td>\n",
       "      <td>1499_141</td>\n",
       "      <td>0.0</td>\n",
       "      <td>2018-12-11</td>\n",
       "      <td>1499</td>\n",
       "    </tr>\n",
       "    <tr>\n",
       "      <th>149381</th>\n",
       "      <td>149381</td>\n",
       "      <td>1499_142</td>\n",
       "      <td>0.0</td>\n",
       "      <td>2018-11-01</td>\n",
       "      <td>1499</td>\n",
       "    </tr>\n",
       "    <tr>\n",
       "      <th>149383</th>\n",
       "      <td>149383</td>\n",
       "      <td>1499_144</td>\n",
       "      <td>0.0</td>\n",
       "      <td>2018-11-27</td>\n",
       "      <td>1499</td>\n",
       "    </tr>\n",
       "    <tr>\n",
       "      <th>149386</th>\n",
       "      <td>149386</td>\n",
       "      <td>1499_147</td>\n",
       "      <td>0.0</td>\n",
       "      <td>2018-10-21</td>\n",
       "      <td>1499</td>\n",
       "    </tr>\n",
       "    <tr>\n",
       "      <th>149393</th>\n",
       "      <td>149393</td>\n",
       "      <td>1499_154</td>\n",
       "      <td>0.0</td>\n",
       "      <td>2018-10-27</td>\n",
       "      <td>1499</td>\n",
       "    </tr>\n",
       "  </tbody>\n",
       "</table>\n",
       "<p>19598 rows × 5 columns</p>\n",
       "</div>"
      ],
      "text/plain": [
       "        Unnamed: 0        id  mb_used session_date  user_id\n",
       "11              11   1000_11      0.0   2018-08-28     1000\n",
       "38              38   1000_38      0.0   2018-11-27     1000\n",
       "46              46   1000_46      0.0   2018-06-30     1000\n",
       "67              67   1000_67      0.0   2018-06-16     1000\n",
       "72              72   1000_72      0.0   2018-06-15     1000\n",
       "...            ...       ...      ...          ...      ...\n",
       "149380      149380  1499_141      0.0   2018-12-11     1499\n",
       "149381      149381  1499_142      0.0   2018-11-01     1499\n",
       "149383      149383  1499_144      0.0   2018-11-27     1499\n",
       "149386      149386  1499_147      0.0   2018-10-21     1499\n",
       "149393      149393  1499_154      0.0   2018-10-27     1499\n",
       "\n",
       "[19598 rows x 5 columns]"
      ]
     },
     "execution_count": 117,
     "metadata": {},
     "output_type": "execute_result"
    }
   ],
   "source": [
    "internet.query('mb_used == 0')"
   ]
  },
  {
   "cell_type": "markdown",
   "id": "c9e334e2",
   "metadata": {},
   "source": [
    "<h3>Many zeroes, this happens when a user is connected to the internet, but no usage is being made thereafter. We will get rid of them here<h3>"
   ]
  },
  {
   "cell_type": "code",
   "execution_count": 118,
   "id": "d4f0dc97",
   "metadata": {},
   "outputs": [],
   "source": [
    "internet['mb_used'] = internet['mb_used'].replace(0, np.NaN)"
   ]
  },
  {
   "cell_type": "code",
   "execution_count": 119,
   "id": "861f5bc8",
   "metadata": {},
   "outputs": [],
   "source": [
    "internet['mb_used'].dropna(inplace=True)"
   ]
  },
  {
   "cell_type": "code",
   "execution_count": 120,
   "id": "c991f5c7",
   "metadata": {},
   "outputs": [
    {
     "data": {
      "text/plain": [
       "<AxesSubplot:>"
      ]
     },
     "execution_count": 120,
     "metadata": {},
     "output_type": "execute_result"
    },
    {
     "data": {
      "image/png": "[encoded data removed]",
      "text/plain": [
       "<Figure size 640x480 with 1 Axes>"
      ]
     },
     "metadata": {},
     "output_type": "display_data"
    }
   ],
   "source": [
    "internet['mb_used'].hist(bins=50)"
   ]
  },
  {
   "cell_type": "code",
   "execution_count": 121,
   "id": "beb83e8c",
   "metadata": {},
   "outputs": [
    {
     "data": {
      "text/html": [
       "<div>\n",
       "<style scoped>\n",
       "    .dataframe tbody tr th:only-of-type {\n",
       "        vertical-align: middle;\n",
       "    }\n",
       "\n",
       "    .dataframe tbody tr th {\n",
       "        vertical-align: top;\n",
       "    }\n",
       "\n",
       "    .dataframe thead th {\n",
       "        text-align: right;\n",
       "    }\n",
       "</style>\n",
       "<table border=\"1\" class=\"dataframe\">\n",
       "  <thead>\n",
       "    <tr style=\"text-align: right;\">\n",
       "      <th></th>\n",
       "      <th>messages_included</th>\n",
       "      <th>mb_per_month_included</th>\n",
       "      <th>minutes_included</th>\n",
       "      <th>rub_monthly_fee</th>\n",
       "      <th>rub_per_gb</th>\n",
       "      <th>rub_per_message</th>\n",
       "      <th>rub_per_minute</th>\n",
       "      <th>tariff_name</th>\n",
       "    </tr>\n",
       "  </thead>\n",
       "  <tbody>\n",
       "    <tr>\n",
       "      <th>0</th>\n",
       "      <td>50</td>\n",
       "      <td>15360</td>\n",
       "      <td>500</td>\n",
       "      <td>550</td>\n",
       "      <td>200</td>\n",
       "      <td>3</td>\n",
       "      <td>3</td>\n",
       "      <td>smart</td>\n",
       "    </tr>\n",
       "    <tr>\n",
       "      <th>1</th>\n",
       "      <td>1000</td>\n",
       "      <td>30720</td>\n",
       "      <td>3000</td>\n",
       "      <td>1950</td>\n",
       "      <td>150</td>\n",
       "      <td>1</td>\n",
       "      <td>1</td>\n",
       "      <td>ultra</td>\n",
       "    </tr>\n",
       "  </tbody>\n",
       "</table>\n",
       "</div>"
      ],
      "text/plain": [
       "   messages_included  mb_per_month_included  minutes_included  \\\n",
       "0                 50                  15360               500   \n",
       "1               1000                  30720              3000   \n",
       "\n",
       "   rub_monthly_fee  rub_per_gb  rub_per_message  rub_per_minute tariff_name  \n",
       "0              550         200                3               3       smart  \n",
       "1             1950         150                1               1       ultra  "
      ]
     },
     "execution_count": 121,
     "metadata": {},
     "output_type": "execute_result"
    }
   ],
   "source": [
    "tariffs"
   ]
  },
  {
   "cell_type": "markdown",
   "id": "3bafdb91",
   "metadata": {},
   "source": [
    "<h3> \"Tariffs\" table looks completely normal"
   ]
  },
  {
   "cell_type": "code",
   "execution_count": 122,
   "id": "12f517d8",
   "metadata": {},
   "outputs": [
    {
     "data": {
      "text/plain": [
       "city\n",
       "Архангельск    1\n",
       "Астрахань      4\n",
       "Балашиха       5\n",
       "Барнаул        3\n",
       "Белгород       2\n",
       "              ..\n",
       "Челябинск      9\n",
       "Череповец      3\n",
       "Чита           4\n",
       "Якутск         3\n",
       "Ярославль      3\n",
       "Length: 76, dtype: int64"
      ]
     },
     "execution_count": 122,
     "metadata": {},
     "output_type": "execute_result"
    }
   ],
   "source": [
    "users.groupby('city').size()"
   ]
  },
  {
   "cell_type": "code",
   "execution_count": 123,
   "id": "f7b9a386",
   "metadata": {},
   "outputs": [
    {
     "data": {
      "text/html": [
       "<div>\n",
       "<style scoped>\n",
       "    .dataframe tbody tr th:only-of-type {\n",
       "        vertical-align: middle;\n",
       "    }\n",
       "\n",
       "    .dataframe tbody tr th {\n",
       "        vertical-align: top;\n",
       "    }\n",
       "\n",
       "    .dataframe thead th {\n",
       "        text-align: right;\n",
       "    }\n",
       "</style>\n",
       "<table border=\"1\" class=\"dataframe\">\n",
       "  <thead>\n",
       "    <tr style=\"text-align: right;\">\n",
       "      <th></th>\n",
       "      <th>user_id</th>\n",
       "    </tr>\n",
       "    <tr>\n",
       "      <th>city</th>\n",
       "      <th></th>\n",
       "    </tr>\n",
       "  </thead>\n",
       "  <tbody>\n",
       "    <tr>\n",
       "      <th>Архангельск</th>\n",
       "      <td>1</td>\n",
       "    </tr>\n",
       "    <tr>\n",
       "      <th>Астрахань</th>\n",
       "      <td>4</td>\n",
       "    </tr>\n",
       "    <tr>\n",
       "      <th>Балашиха</th>\n",
       "      <td>5</td>\n",
       "    </tr>\n",
       "    <tr>\n",
       "      <th>Барнаул</th>\n",
       "      <td>3</td>\n",
       "    </tr>\n",
       "    <tr>\n",
       "      <th>Белгород</th>\n",
       "      <td>2</td>\n",
       "    </tr>\n",
       "    <tr>\n",
       "      <th>...</th>\n",
       "      <td>...</td>\n",
       "    </tr>\n",
       "    <tr>\n",
       "      <th>Челябинск</th>\n",
       "      <td>9</td>\n",
       "    </tr>\n",
       "    <tr>\n",
       "      <th>Череповец</th>\n",
       "      <td>3</td>\n",
       "    </tr>\n",
       "    <tr>\n",
       "      <th>Чита</th>\n",
       "      <td>4</td>\n",
       "    </tr>\n",
       "    <tr>\n",
       "      <th>Якутск</th>\n",
       "      <td>3</td>\n",
       "    </tr>\n",
       "    <tr>\n",
       "      <th>Ярославль</th>\n",
       "      <td>3</td>\n",
       "    </tr>\n",
       "  </tbody>\n",
       "</table>\n",
       "<p>76 rows × 1 columns</p>\n",
       "</div>"
      ],
      "text/plain": [
       "             user_id\n",
       "city                \n",
       "Архангельск        1\n",
       "Астрахань          4\n",
       "Балашиха           5\n",
       "Барнаул            3\n",
       "Белгород           2\n",
       "...              ...\n",
       "Челябинск          9\n",
       "Череповец          3\n",
       "Чита               4\n",
       "Якутск             3\n",
       "Ярославль          3\n",
       "\n",
       "[76 rows x 1 columns]"
      ]
     },
     "execution_count": 123,
     "metadata": {},
     "output_type": "execute_result"
    }
   ],
   "source": [
    "users.pivot_table(index='city', values='user_id', aggfunc='count')"
   ]
  },
  {
   "cell_type": "markdown",
   "id": "7fc6faea",
   "metadata": {},
   "source": [
    "<h2> Let us see how cities differ in the ammount of consumers in them in %</h2>"
   ]
  },
  {
   "cell_type": "code",
   "execution_count": 124,
   "id": "eb157044",
   "metadata": {},
   "outputs": [
    {
     "data": {
      "image/png": "[encoded data removed]",
      "text/plain": [
       "<Figure size 1500x1000 with 1 Axes>"
      ]
     },
     "metadata": {},
     "output_type": "display_data"
    }
   ],
   "source": [
    "all_users = len(users)\n",
    "df_for_barh = users.groupby('city').size()/all_users\n",
    "df_for_barh_filtered = df_for_barh[df_for_barh > 0.015].sort_values()\n",
    "ax = df_for_barh_filtered.plot(kind='barh', color='#45ff91', figsize=(15,10))\n",
    "\n",
    "labels = dict(df_for_barh_filtered)\n",
    "labels\n",
    "\n",
    "i = 0\n",
    "for city in labels:\n",
    "    ax.text(labels[city] + 0.0005, i + 0.05, str(round(labels[city]*100, 6)) + '%', \n",
    "            fontsize = 'large', fontweight='bold', color='blue')\n",
    "    if i < 9.7:\n",
    "        i += 0.98\n",
    "    else:\n",
    "        i += 1.02"
   ]
  },
  {
   "cell_type": "markdown",
   "id": "e8488c12",
   "metadata": {},
   "source": [
    "<h4>We will determine the location of the users, we might need that information later</h4>"
   ]
  },
  {
   "cell_type": "code",
   "execution_count": 125,
   "id": "e3a3eb28",
   "metadata": {},
   "outputs": [],
   "source": [
    "import requests as r\n",
    "list_of_cities = users['city'].unique().tolist()\n",
    "\n",
    "url = 'https://geocode-maps.yandex.ru/1.x/?format=json&apikey=6917c6b1-3019-4d9c-bf87-1a6a110530fc&geocode='\n",
    "coordinates = []\n",
    "\n",
    "for city in list_of_cities:\n",
    "    if city == city:\n",
    "        url_formatted = url + city\n",
    "        rsp = r.get(url_formatted).json()\n",
    "        data = rsp['response']['GeoObjectCollection']['featureMember'][0]['GeoObject']['Point'].get('pos')\n",
    "        coordinate = (float(data.split()[1]), float(data.split()[0]))\n",
    "        coordinates.append(coordinate)\n",
    "    else:\n",
    "        coordinates.append('')"
   ]
  },
  {
   "cell_type": "code",
   "execution_count": 126,
   "id": "5ba99dbe",
   "metadata": {},
   "outputs": [],
   "source": [
    "unique_cities_coordinates = pd.DataFrame({'City':list_of_cities, 'Coordinates':coordinates})\n",
    "unique_cities_coordinates.head(10)\n",
    "dict_unique_cities_coord = dict(pd.Series(unique_cities_coordinates['Coordinates'].values, index=pd.Series(unique_cities_coordinates['City'].values)))"
   ]
  },
  {
   "cell_type": "code",
   "execution_count": 127,
   "id": "3b12ebe0",
   "metadata": {},
   "outputs": [
    {
     "data": {
      "text/html": [
       "<div>\n",
       "<style scoped>\n",
       "    .dataframe tbody tr th:only-of-type {\n",
       "        vertical-align: middle;\n",
       "    }\n",
       "\n",
       "    .dataframe tbody tr th {\n",
       "        vertical-align: top;\n",
       "    }\n",
       "\n",
       "    .dataframe thead th {\n",
       "        text-align: right;\n",
       "    }\n",
       "</style>\n",
       "<table border=\"1\" class=\"dataframe\">\n",
       "  <thead>\n",
       "    <tr style=\"text-align: right;\">\n",
       "      <th></th>\n",
       "      <th>city</th>\n",
       "      <th>coordinates</th>\n",
       "    </tr>\n",
       "  </thead>\n",
       "  <tbody>\n",
       "    <tr>\n",
       "      <th>0</th>\n",
       "      <td>Краснодар</td>\n",
       "      <td>(45.03547, 38.975313)</td>\n",
       "    </tr>\n",
       "    <tr>\n",
       "      <th>1</th>\n",
       "      <td>Москва</td>\n",
       "      <td>(55.755864, 37.617698)</td>\n",
       "    </tr>\n",
       "    <tr>\n",
       "      <th>2</th>\n",
       "      <td>Стерлитамак</td>\n",
       "      <td>(53.630403, 55.930825)</td>\n",
       "    </tr>\n",
       "    <tr>\n",
       "      <th>3</th>\n",
       "      <td>Москва</td>\n",
       "      <td>(55.755864, 37.617698)</td>\n",
       "    </tr>\n",
       "    <tr>\n",
       "      <th>4</th>\n",
       "      <td>Новокузнецк</td>\n",
       "      <td>(53.757553, 87.136053)</td>\n",
       "    </tr>\n",
       "    <tr>\n",
       "      <th>...</th>\n",
       "      <td>...</td>\n",
       "      <td>...</td>\n",
       "    </tr>\n",
       "    <tr>\n",
       "      <th>495</th>\n",
       "      <td>Иркутск</td>\n",
       "      <td>(52.289588, 104.280606)</td>\n",
       "    </tr>\n",
       "    <tr>\n",
       "      <th>496</th>\n",
       "      <td>Вологда</td>\n",
       "      <td>(59.220501, 39.891523)</td>\n",
       "    </tr>\n",
       "    <tr>\n",
       "      <th>497</th>\n",
       "      <td>Челябинск</td>\n",
       "      <td>(55.159902, 61.402554)</td>\n",
       "    </tr>\n",
       "    <tr>\n",
       "      <th>498</th>\n",
       "      <td>Владикавказ</td>\n",
       "      <td>(43.024616, 44.681771)</td>\n",
       "    </tr>\n",
       "    <tr>\n",
       "      <th>499</th>\n",
       "      <td>Пермь</td>\n",
       "      <td>(58.010455, 56.229443)</td>\n",
       "    </tr>\n",
       "  </tbody>\n",
       "</table>\n",
       "<p>500 rows × 2 columns</p>\n",
       "</div>"
      ],
      "text/plain": [
       "            city              coordinates\n",
       "0      Краснодар    (45.03547, 38.975313)\n",
       "1         Москва   (55.755864, 37.617698)\n",
       "2    Стерлитамак   (53.630403, 55.930825)\n",
       "3         Москва   (55.755864, 37.617698)\n",
       "4    Новокузнецк   (53.757553, 87.136053)\n",
       "..           ...                      ...\n",
       "495      Иркутск  (52.289588, 104.280606)\n",
       "496      Вологда   (59.220501, 39.891523)\n",
       "497    Челябинск   (55.159902, 61.402554)\n",
       "498  Владикавказ   (43.024616, 44.681771)\n",
       "499        Пермь   (58.010455, 56.229443)\n",
       "\n",
       "[500 rows x 2 columns]"
      ]
     },
     "execution_count": 127,
     "metadata": {},
     "output_type": "execute_result"
    }
   ],
   "source": [
    "users['coordinates'] = users['city'].map(dict_unique_cities_coord)\n",
    "users[['city','coordinates']]"
   ]
  },
  {
   "cell_type": "markdown",
   "id": "3bf563ed",
   "metadata": {},
   "source": [
    "<h2>Let us now calculate for each user:<ol>\n",
    "    <li>number of calls made and minutes used by month;</li>\n",
    "    \n",
    "<li>Messages sent by month;</li>\n",
    "    \n",
    "<li>Monthly amount of used Internet traffic;</li>\n",
    "    \n",
    "<li>Monthly revenue per user (subtract free limit from total calls, messages, and internet traffic; multiply balance by value from your plan; add monthly fees appropriate to your plan)..</li></ol></h2>"
   ]
  },
  {
   "cell_type": "code",
   "execution_count": 128,
   "id": "6cd86f80",
   "metadata": {},
   "outputs": [],
   "source": [
    "users['unique_name'] = users['city'] + ' ' + users['first_name'] + ' ' +  users['last_name']"
   ]
  },
  {
   "cell_type": "code",
   "execution_count": 129,
   "id": "11315ddf",
   "metadata": {},
   "outputs": [
    {
     "data": {
      "text/plain": [
       "0         Краснодар Рафаил Верещагин\n",
       "1                   Москва Иван Ежов\n",
       "2      Стерлитамак Евгений Абрамович\n",
       "3              Москва Белла Белякова\n",
       "4       Новокузнецк Татьяна Авдеенко\n",
       "                   ...              \n",
       "495          Иркутск Авксентий Фокин\n",
       "496            Вологда Трифон Блохин\n",
       "497        Челябинск Каролина Агеева\n",
       "498     Владикавказ Всеволод Акимчин\n",
       "499            Пермь Гектор Корнилов\n",
       "Name: unique_name, Length: 500, dtype: object"
      ]
     },
     "execution_count": 129,
     "metadata": {},
     "output_type": "execute_result"
    }
   ],
   "source": [
    "users['unique_name']"
   ]
  },
  {
   "cell_type": "markdown",
   "id": "bf8bd74b",
   "metadata": {},
   "source": [
    "We will merge the table calls on the table users and buld a pivot table to determine the number of <b>calls</b> and their duration for each user <b>monthly</b>"
   ]
  },
  {
   "cell_type": "code",
   "execution_count": 130,
   "id": "03c5d9e2",
   "metadata": {},
   "outputs": [
    {
     "data": {
      "text/html": [
       "<div>\n",
       "<style scoped>\n",
       "    .dataframe tbody tr th:only-of-type {\n",
       "        vertical-align: middle;\n",
       "    }\n",
       "\n",
       "    .dataframe tbody tr th {\n",
       "        vertical-align: top;\n",
       "    }\n",
       "\n",
       "    .dataframe thead th {\n",
       "        text-align: right;\n",
       "    }\n",
       "</style>\n",
       "<table border=\"1\" class=\"dataframe\">\n",
       "  <thead>\n",
       "    <tr style=\"text-align: right;\">\n",
       "      <th></th>\n",
       "      <th></th>\n",
       "      <th>duration</th>\n",
       "      <th>calls</th>\n",
       "    </tr>\n",
       "    <tr>\n",
       "      <th>user_id</th>\n",
       "      <th>month</th>\n",
       "      <th></th>\n",
       "      <th></th>\n",
       "    </tr>\n",
       "  </thead>\n",
       "  <tbody>\n",
       "    <tr>\n",
       "      <th rowspan=\"5\" valign=\"top\">1000</th>\n",
       "      <th>5</th>\n",
       "      <td>159.0</td>\n",
       "      <td>22</td>\n",
       "    </tr>\n",
       "    <tr>\n",
       "      <th>6</th>\n",
       "      <td>172.0</td>\n",
       "      <td>43</td>\n",
       "    </tr>\n",
       "    <tr>\n",
       "      <th>7</th>\n",
       "      <td>340.0</td>\n",
       "      <td>47</td>\n",
       "    </tr>\n",
       "    <tr>\n",
       "      <th>8</th>\n",
       "      <td>408.0</td>\n",
       "      <td>52</td>\n",
       "    </tr>\n",
       "    <tr>\n",
       "      <th>9</th>\n",
       "      <td>466.0</td>\n",
       "      <td>58</td>\n",
       "    </tr>\n",
       "    <tr>\n",
       "      <th>...</th>\n",
       "      <th>...</th>\n",
       "      <td>...</td>\n",
       "      <td>...</td>\n",
       "    </tr>\n",
       "    <tr>\n",
       "      <th>1498</th>\n",
       "      <th>10</th>\n",
       "      <td>247.0</td>\n",
       "      <td>41</td>\n",
       "    </tr>\n",
       "    <tr>\n",
       "      <th rowspan=\"4\" valign=\"top\">1499</th>\n",
       "      <th>9</th>\n",
       "      <td>70.0</td>\n",
       "      <td>9</td>\n",
       "    </tr>\n",
       "    <tr>\n",
       "      <th>10</th>\n",
       "      <td>449.0</td>\n",
       "      <td>68</td>\n",
       "    </tr>\n",
       "    <tr>\n",
       "      <th>11</th>\n",
       "      <td>612.0</td>\n",
       "      <td>74</td>\n",
       "    </tr>\n",
       "    <tr>\n",
       "      <th>12</th>\n",
       "      <td>492.0</td>\n",
       "      <td>69</td>\n",
       "    </tr>\n",
       "  </tbody>\n",
       "</table>\n",
       "<p>3174 rows × 2 columns</p>\n",
       "</div>"
      ],
      "text/plain": [
       "               duration  calls\n",
       "user_id month                 \n",
       "1000    5         159.0     22\n",
       "        6         172.0     43\n",
       "        7         340.0     47\n",
       "        8         408.0     52\n",
       "        9         466.0     58\n",
       "...                 ...    ...\n",
       "1498    10        247.0     41\n",
       "1499    9          70.0      9\n",
       "        10        449.0     68\n",
       "        11        612.0     74\n",
       "        12        492.0     69\n",
       "\n",
       "[3174 rows x 2 columns]"
      ]
     },
     "execution_count": 130,
     "metadata": {},
     "output_type": "execute_result"
    }
   ],
   "source": [
    "calls_merge = calls.merge(users, on='user_id', how='inner')\n",
    "calls_pivot = calls_merge.pivot_table(index=['user_id', 'month'], \n",
    "                                      values=['duration', 'unique_name'], \n",
    "                                      aggfunc={'unique_name':'count', 'duration':'sum'})\n",
    "calls_pivot.columns = ['duration', 'calls']\n",
    "calls_pivot"
   ]
  },
  {
   "cell_type": "code",
   "execution_count": 131,
   "id": "46d9a221",
   "metadata": {},
   "outputs": [
    {
     "data": {
      "text/html": [
       "<div>\n",
       "<style scoped>\n",
       "    .dataframe tbody tr th:only-of-type {\n",
       "        vertical-align: middle;\n",
       "    }\n",
       "\n",
       "    .dataframe tbody tr th {\n",
       "        vertical-align: top;\n",
       "    }\n",
       "\n",
       "    .dataframe thead th {\n",
       "        text-align: right;\n",
       "    }\n",
       "</style>\n",
       "<table border=\"1\" class=\"dataframe\">\n",
       "  <thead>\n",
       "    <tr style=\"text-align: right;\">\n",
       "      <th></th>\n",
       "      <th>id</th>\n",
       "      <th>message_date</th>\n",
       "      <th>user_id</th>\n",
       "      <th>month</th>\n",
       "    </tr>\n",
       "  </thead>\n",
       "  <tbody>\n",
       "    <tr>\n",
       "      <th>0</th>\n",
       "      <td>1000_0</td>\n",
       "      <td>2018-06-27</td>\n",
       "      <td>1000</td>\n",
       "      <td>6</td>\n",
       "    </tr>\n",
       "    <tr>\n",
       "      <th>1</th>\n",
       "      <td>1000_1</td>\n",
       "      <td>2018-10-08</td>\n",
       "      <td>1000</td>\n",
       "      <td>10</td>\n",
       "    </tr>\n",
       "    <tr>\n",
       "      <th>2</th>\n",
       "      <td>1000_2</td>\n",
       "      <td>2018-08-04</td>\n",
       "      <td>1000</td>\n",
       "      <td>8</td>\n",
       "    </tr>\n",
       "    <tr>\n",
       "      <th>3</th>\n",
       "      <td>1000_3</td>\n",
       "      <td>2018-06-16</td>\n",
       "      <td>1000</td>\n",
       "      <td>6</td>\n",
       "    </tr>\n",
       "    <tr>\n",
       "      <th>4</th>\n",
       "      <td>1000_4</td>\n",
       "      <td>2018-12-05</td>\n",
       "      <td>1000</td>\n",
       "      <td>12</td>\n",
       "    </tr>\n",
       "    <tr>\n",
       "      <th>...</th>\n",
       "      <td>...</td>\n",
       "      <td>...</td>\n",
       "      <td>...</td>\n",
       "      <td>...</td>\n",
       "    </tr>\n",
       "    <tr>\n",
       "      <th>123031</th>\n",
       "      <td>1499_179</td>\n",
       "      <td>2018-12-12</td>\n",
       "      <td>1499</td>\n",
       "      <td>12</td>\n",
       "    </tr>\n",
       "    <tr>\n",
       "      <th>123032</th>\n",
       "      <td>1499_180</td>\n",
       "      <td>2018-09-28</td>\n",
       "      <td>1499</td>\n",
       "      <td>9</td>\n",
       "    </tr>\n",
       "    <tr>\n",
       "      <th>123033</th>\n",
       "      <td>1499_181</td>\n",
       "      <td>2018-09-27</td>\n",
       "      <td>1499</td>\n",
       "      <td>9</td>\n",
       "    </tr>\n",
       "    <tr>\n",
       "      <th>123034</th>\n",
       "      <td>1499_182</td>\n",
       "      <td>2018-11-15</td>\n",
       "      <td>1499</td>\n",
       "      <td>11</td>\n",
       "    </tr>\n",
       "    <tr>\n",
       "      <th>123035</th>\n",
       "      <td>1499_183</td>\n",
       "      <td>2018-11-16</td>\n",
       "      <td>1499</td>\n",
       "      <td>11</td>\n",
       "    </tr>\n",
       "  </tbody>\n",
       "</table>\n",
       "<p>123036 rows × 4 columns</p>\n",
       "</div>"
      ],
      "text/plain": [
       "              id message_date  user_id  month\n",
       "0         1000_0   2018-06-27     1000      6\n",
       "1         1000_1   2018-10-08     1000     10\n",
       "2         1000_2   2018-08-04     1000      8\n",
       "3         1000_3   2018-06-16     1000      6\n",
       "4         1000_4   2018-12-05     1000     12\n",
       "...          ...          ...      ...    ...\n",
       "123031  1499_179   2018-12-12     1499     12\n",
       "123032  1499_180   2018-09-28     1499      9\n",
       "123033  1499_181   2018-09-27     1499      9\n",
       "123034  1499_182   2018-11-15     1499     11\n",
       "123035  1499_183   2018-11-16     1499     11\n",
       "\n",
       "[123036 rows x 4 columns]"
      ]
     },
     "execution_count": 131,
     "metadata": {},
     "output_type": "execute_result"
    }
   ],
   "source": [
    "messages['month'] = messages['message_date'].dt.month\n",
    "messages"
   ]
  },
  {
   "cell_type": "markdown",
   "id": "4c754d45",
   "metadata": {},
   "source": [
    "We will do the same procedure with the <b>messages</b> and <b>internet</b> tables"
   ]
  },
  {
   "cell_type": "code",
   "execution_count": 132,
   "id": "108c2f75",
   "metadata": {},
   "outputs": [],
   "source": [
    "messages_merge = messages.merge(users, on='user_id', how='inner')\n",
    "message_pivot = messages_merge.pivot_table(values='unique_name', \n",
    "                       index=['user_id', 'month'], \n",
    "                       aggfunc={'unique_name': 'count'})\n",
    "message_pivot.columns = ['messages']"
   ]
  },
  {
   "cell_type": "code",
   "execution_count": 133,
   "id": "bfc2b0ad",
   "metadata": {},
   "outputs": [
    {
     "data": {
      "text/html": [
       "<div>\n",
       "<style scoped>\n",
       "    .dataframe tbody tr th:only-of-type {\n",
       "        vertical-align: middle;\n",
       "    }\n",
       "\n",
       "    .dataframe tbody tr th {\n",
       "        vertical-align: top;\n",
       "    }\n",
       "\n",
       "    .dataframe thead th {\n",
       "        text-align: right;\n",
       "    }\n",
       "</style>\n",
       "<table border=\"1\" class=\"dataframe\">\n",
       "  <thead>\n",
       "    <tr style=\"text-align: right;\">\n",
       "      <th></th>\n",
       "      <th></th>\n",
       "      <th>messages</th>\n",
       "    </tr>\n",
       "    <tr>\n",
       "      <th>user_id</th>\n",
       "      <th>month</th>\n",
       "      <th></th>\n",
       "    </tr>\n",
       "  </thead>\n",
       "  <tbody>\n",
       "    <tr>\n",
       "      <th rowspan=\"5\" valign=\"top\">1000</th>\n",
       "      <th>5</th>\n",
       "      <td>22</td>\n",
       "    </tr>\n",
       "    <tr>\n",
       "      <th>6</th>\n",
       "      <td>60</td>\n",
       "    </tr>\n",
       "    <tr>\n",
       "      <th>7</th>\n",
       "      <td>75</td>\n",
       "    </tr>\n",
       "    <tr>\n",
       "      <th>8</th>\n",
       "      <td>81</td>\n",
       "    </tr>\n",
       "    <tr>\n",
       "      <th>9</th>\n",
       "      <td>57</td>\n",
       "    </tr>\n",
       "    <tr>\n",
       "      <th>...</th>\n",
       "      <th>...</th>\n",
       "      <td>...</td>\n",
       "    </tr>\n",
       "    <tr>\n",
       "      <th>1498</th>\n",
       "      <th>10</th>\n",
       "      <td>42</td>\n",
       "    </tr>\n",
       "    <tr>\n",
       "      <th rowspan=\"4\" valign=\"top\">1499</th>\n",
       "      <th>9</th>\n",
       "      <td>11</td>\n",
       "    </tr>\n",
       "    <tr>\n",
       "      <th>10</th>\n",
       "      <td>48</td>\n",
       "    </tr>\n",
       "    <tr>\n",
       "      <th>11</th>\n",
       "      <td>59</td>\n",
       "    </tr>\n",
       "    <tr>\n",
       "      <th>12</th>\n",
       "      <td>66</td>\n",
       "    </tr>\n",
       "  </tbody>\n",
       "</table>\n",
       "<p>2717 rows × 1 columns</p>\n",
       "</div>"
      ],
      "text/plain": [
       "               messages\n",
       "user_id month          \n",
       "1000    5            22\n",
       "        6            60\n",
       "        7            75\n",
       "        8            81\n",
       "        9            57\n",
       "...                 ...\n",
       "1498    10           42\n",
       "1499    9            11\n",
       "        10           48\n",
       "        11           59\n",
       "        12           66\n",
       "\n",
       "[2717 rows x 1 columns]"
      ]
     },
     "execution_count": 133,
     "metadata": {},
     "output_type": "execute_result"
    }
   ],
   "source": [
    "message_pivot"
   ]
  },
  {
   "cell_type": "code",
   "execution_count": 134,
   "id": "0abf01d4",
   "metadata": {},
   "outputs": [
    {
     "data": {
      "text/html": [
       "<div>\n",
       "<style scoped>\n",
       "    .dataframe tbody tr th:only-of-type {\n",
       "        vertical-align: middle;\n",
       "    }\n",
       "\n",
       "    .dataframe tbody tr th {\n",
       "        vertical-align: top;\n",
       "    }\n",
       "\n",
       "    .dataframe thead th {\n",
       "        text-align: right;\n",
       "    }\n",
       "</style>\n",
       "<table border=\"1\" class=\"dataframe\">\n",
       "  <thead>\n",
       "    <tr style=\"text-align: right;\">\n",
       "      <th></th>\n",
       "      <th></th>\n",
       "      <th>mb_used</th>\n",
       "    </tr>\n",
       "    <tr>\n",
       "      <th>user_id</th>\n",
       "      <th>month</th>\n",
       "      <th></th>\n",
       "    </tr>\n",
       "  </thead>\n",
       "  <tbody>\n",
       "    <tr>\n",
       "      <th rowspan=\"5\" valign=\"top\">1000</th>\n",
       "      <th>5</th>\n",
       "      <td>2256.0</td>\n",
       "    </tr>\n",
       "    <tr>\n",
       "      <th>6</th>\n",
       "      <td>23257.0</td>\n",
       "    </tr>\n",
       "    <tr>\n",
       "      <th>7</th>\n",
       "      <td>14016.0</td>\n",
       "    </tr>\n",
       "    <tr>\n",
       "      <th>8</th>\n",
       "      <td>14070.0</td>\n",
       "    </tr>\n",
       "    <tr>\n",
       "      <th>9</th>\n",
       "      <td>14581.0</td>\n",
       "    </tr>\n",
       "    <tr>\n",
       "      <th>...</th>\n",
       "      <th>...</th>\n",
       "      <td>...</td>\n",
       "    </tr>\n",
       "    <tr>\n",
       "      <th>1498</th>\n",
       "      <th>10</th>\n",
       "      <td>20604.0</td>\n",
       "    </tr>\n",
       "    <tr>\n",
       "      <th rowspan=\"4\" valign=\"top\">1499</th>\n",
       "      <th>9</th>\n",
       "      <td>1848.0</td>\n",
       "    </tr>\n",
       "    <tr>\n",
       "      <th>10</th>\n",
       "      <td>17809.0</td>\n",
       "    </tr>\n",
       "    <tr>\n",
       "      <th>11</th>\n",
       "      <td>17984.0</td>\n",
       "    </tr>\n",
       "    <tr>\n",
       "      <th>12</th>\n",
       "      <td>13077.0</td>\n",
       "    </tr>\n",
       "  </tbody>\n",
       "</table>\n",
       "<p>3203 rows × 1 columns</p>\n",
       "</div>"
      ],
      "text/plain": [
       "               mb_used\n",
       "user_id month         \n",
       "1000    5       2256.0\n",
       "        6      23257.0\n",
       "        7      14016.0\n",
       "        8      14070.0\n",
       "        9      14581.0\n",
       "...                ...\n",
       "1498    10     20604.0\n",
       "1499    9       1848.0\n",
       "        10     17809.0\n",
       "        11     17984.0\n",
       "        12     13077.0\n",
       "\n",
       "[3203 rows x 1 columns]"
      ]
     },
     "execution_count": 134,
     "metadata": {},
     "output_type": "execute_result"
    }
   ],
   "source": [
    "internet['month'] = internet['session_date'].dt.month\n",
    "internet_merge = internet.merge(users, on='user_id', how='inner')\n",
    "internet_pivot = internet_merge.pivot_table(values = 'mb_used', \n",
    "                                            index=['user_id', 'month'],\n",
    "                                            aggfunc={'mb_used': 'sum'})\n",
    "internet_pivot"
   ]
  },
  {
   "cell_type": "code",
   "execution_count": 135,
   "id": "6b0520c5",
   "metadata": {},
   "outputs": [
    {
     "data": {
      "text/plain": [
       "[               duration  calls\n",
       " user_id month                 \n",
       " 1000    5         159.0     22\n",
       "         6         172.0     43\n",
       "         7         340.0     47\n",
       "         8         408.0     52\n",
       "         9         466.0     58\n",
       " ...                 ...    ...\n",
       " 1498    10        247.0     41\n",
       " 1499    9          70.0      9\n",
       "         10        449.0     68\n",
       "         11        612.0     74\n",
       "         12        492.0     69\n",
       " \n",
       " [3174 rows x 2 columns],\n",
       "                messages\n",
       " user_id month          \n",
       " 1000    5            22\n",
       "         6            60\n",
       "         7            75\n",
       "         8            81\n",
       "         9            57\n",
       " ...                 ...\n",
       " 1498    10           42\n",
       " 1499    9            11\n",
       "         10           48\n",
       "         11           59\n",
       "         12           66\n",
       " \n",
       " [2717 rows x 1 columns],\n",
       "                mb_used\n",
       " user_id month         \n",
       " 1000    5       2256.0\n",
       "         6      23257.0\n",
       "         7      14016.0\n",
       "         8      14070.0\n",
       "         9      14581.0\n",
       " ...                ...\n",
       " 1498    10     20604.0\n",
       " 1499    9       1848.0\n",
       "         10     17809.0\n",
       "         11     17984.0\n",
       "         12     13077.0\n",
       " \n",
       " [3203 rows x 1 columns]]"
      ]
     },
     "execution_count": 135,
     "metadata": {},
     "output_type": "execute_result"
    }
   ],
   "source": [
    "data_frames = [calls_pivot, message_pivot, internet_pivot]\n",
    "data_frames"
   ]
  },
  {
   "cell_type": "markdown",
   "id": "542311fb",
   "metadata": {},
   "source": [
    "Make a grouped data frame out of the pivot tables above"
   ]
  },
  {
   "cell_type": "code",
   "execution_count": 136,
   "id": "a9f25477",
   "metadata": {},
   "outputs": [],
   "source": [
    "import functools\n",
    "grouped = functools.reduce(lambda x, y:pd.merge(x,y, on=['user_id', 'month'], how='outer'), data_frames)"
   ]
  },
  {
   "cell_type": "code",
   "execution_count": 137,
   "id": "28a12f5e",
   "metadata": {},
   "outputs": [
    {
     "data": {
      "text/html": [
       "<div>\n",
       "<style scoped>\n",
       "    .dataframe tbody tr th:only-of-type {\n",
       "        vertical-align: middle;\n",
       "    }\n",
       "\n",
       "    .dataframe tbody tr th {\n",
       "        vertical-align: top;\n",
       "    }\n",
       "\n",
       "    .dataframe thead th {\n",
       "        text-align: right;\n",
       "    }\n",
       "</style>\n",
       "<table border=\"1\" class=\"dataframe\">\n",
       "  <thead>\n",
       "    <tr style=\"text-align: right;\">\n",
       "      <th></th>\n",
       "      <th></th>\n",
       "      <th>duration</th>\n",
       "      <th>calls</th>\n",
       "      <th>messages</th>\n",
       "      <th>mb_used</th>\n",
       "    </tr>\n",
       "    <tr>\n",
       "      <th>user_id</th>\n",
       "      <th>month</th>\n",
       "      <th></th>\n",
       "      <th></th>\n",
       "      <th></th>\n",
       "      <th></th>\n",
       "    </tr>\n",
       "  </thead>\n",
       "  <tbody>\n",
       "    <tr>\n",
       "      <th rowspan=\"8\" valign=\"top\">1000</th>\n",
       "      <th>5</th>\n",
       "      <td>159.0</td>\n",
       "      <td>22.0</td>\n",
       "      <td>22.0</td>\n",
       "      <td>2256.0</td>\n",
       "    </tr>\n",
       "    <tr>\n",
       "      <th>6</th>\n",
       "      <td>172.0</td>\n",
       "      <td>43.0</td>\n",
       "      <td>60.0</td>\n",
       "      <td>23257.0</td>\n",
       "    </tr>\n",
       "    <tr>\n",
       "      <th>7</th>\n",
       "      <td>340.0</td>\n",
       "      <td>47.0</td>\n",
       "      <td>75.0</td>\n",
       "      <td>14016.0</td>\n",
       "    </tr>\n",
       "    <tr>\n",
       "      <th>8</th>\n",
       "      <td>408.0</td>\n",
       "      <td>52.0</td>\n",
       "      <td>81.0</td>\n",
       "      <td>14070.0</td>\n",
       "    </tr>\n",
       "    <tr>\n",
       "      <th>9</th>\n",
       "      <td>466.0</td>\n",
       "      <td>58.0</td>\n",
       "      <td>57.0</td>\n",
       "      <td>14581.0</td>\n",
       "    </tr>\n",
       "    <tr>\n",
       "      <th>10</th>\n",
       "      <td>350.0</td>\n",
       "      <td>57.0</td>\n",
       "      <td>73.0</td>\n",
       "      <td>14717.0</td>\n",
       "    </tr>\n",
       "    <tr>\n",
       "      <th>11</th>\n",
       "      <td>338.0</td>\n",
       "      <td>43.0</td>\n",
       "      <td>58.0</td>\n",
       "      <td>14768.0</td>\n",
       "    </tr>\n",
       "    <tr>\n",
       "      <th>12</th>\n",
       "      <td>333.0</td>\n",
       "      <td>46.0</td>\n",
       "      <td>70.0</td>\n",
       "      <td>9827.0</td>\n",
       "    </tr>\n",
       "    <tr>\n",
       "      <th rowspan=\"2\" valign=\"top\">1001</th>\n",
       "      <th>11</th>\n",
       "      <td>430.0</td>\n",
       "      <td>59.0</td>\n",
       "      <td>NaN</td>\n",
       "      <td>18452.0</td>\n",
       "    </tr>\n",
       "    <tr>\n",
       "      <th>12</th>\n",
       "      <td>414.0</td>\n",
       "      <td>63.0</td>\n",
       "      <td>NaN</td>\n",
       "      <td>14053.0</td>\n",
       "    </tr>\n",
       "  </tbody>\n",
       "</table>\n",
       "</div>"
      ],
      "text/plain": [
       "               duration  calls  messages  mb_used\n",
       "user_id month                                    \n",
       "1000    5         159.0   22.0      22.0   2256.0\n",
       "        6         172.0   43.0      60.0  23257.0\n",
       "        7         340.0   47.0      75.0  14016.0\n",
       "        8         408.0   52.0      81.0  14070.0\n",
       "        9         466.0   58.0      57.0  14581.0\n",
       "        10        350.0   57.0      73.0  14717.0\n",
       "        11        338.0   43.0      58.0  14768.0\n",
       "        12        333.0   46.0      70.0   9827.0\n",
       "1001    11        430.0   59.0       NaN  18452.0\n",
       "        12        414.0   63.0       NaN  14053.0"
      ]
     },
     "execution_count": 137,
     "metadata": {},
     "output_type": "execute_result"
    }
   ],
   "source": [
    "grouped.head(10)"
   ]
  },
  {
   "cell_type": "markdown",
   "id": "2e340c72",
   "metadata": {},
   "source": [
    "<h3>Let us compute the revenue for each user according to the tariff he uses</h3>"
   ]
  },
  {
   "cell_type": "code",
   "execution_count": 138,
   "id": "2566ce8a",
   "metadata": {},
   "outputs": [
    {
     "data": {
      "text/html": [
       "<div>\n",
       "<style scoped>\n",
       "    .dataframe tbody tr th:only-of-type {\n",
       "        vertical-align: middle;\n",
       "    }\n",
       "\n",
       "    .dataframe tbody tr th {\n",
       "        vertical-align: top;\n",
       "    }\n",
       "\n",
       "    .dataframe thead th {\n",
       "        text-align: right;\n",
       "    }\n",
       "</style>\n",
       "<table border=\"1\" class=\"dataframe\">\n",
       "  <thead>\n",
       "    <tr style=\"text-align: right;\">\n",
       "      <th></th>\n",
       "      <th></th>\n",
       "      <th>duration</th>\n",
       "      <th>calls</th>\n",
       "      <th>messages</th>\n",
       "      <th>mb_used</th>\n",
       "      <th>tariff</th>\n",
       "      <th>revenue</th>\n",
       "    </tr>\n",
       "    <tr>\n",
       "      <th>user_id</th>\n",
       "      <th>month</th>\n",
       "      <th></th>\n",
       "      <th></th>\n",
       "      <th></th>\n",
       "      <th></th>\n",
       "      <th></th>\n",
       "      <th></th>\n",
       "    </tr>\n",
       "  </thead>\n",
       "  <tbody>\n",
       "    <tr>\n",
       "      <th rowspan=\"8\" valign=\"top\">1000</th>\n",
       "      <th>5</th>\n",
       "      <td>159.0</td>\n",
       "      <td>22.0</td>\n",
       "      <td>22.0</td>\n",
       "      <td>2256.0</td>\n",
       "      <td>ultra</td>\n",
       "      <td>1950.00000</td>\n",
       "    </tr>\n",
       "    <tr>\n",
       "      <th>6</th>\n",
       "      <td>172.0</td>\n",
       "      <td>43.0</td>\n",
       "      <td>60.0</td>\n",
       "      <td>23257.0</td>\n",
       "      <td>ultra</td>\n",
       "      <td>1950.00000</td>\n",
       "    </tr>\n",
       "    <tr>\n",
       "      <th>7</th>\n",
       "      <td>340.0</td>\n",
       "      <td>47.0</td>\n",
       "      <td>75.0</td>\n",
       "      <td>14016.0</td>\n",
       "      <td>ultra</td>\n",
       "      <td>1950.00000</td>\n",
       "    </tr>\n",
       "    <tr>\n",
       "      <th>8</th>\n",
       "      <td>408.0</td>\n",
       "      <td>52.0</td>\n",
       "      <td>81.0</td>\n",
       "      <td>14070.0</td>\n",
       "      <td>ultra</td>\n",
       "      <td>1950.00000</td>\n",
       "    </tr>\n",
       "    <tr>\n",
       "      <th>9</th>\n",
       "      <td>466.0</td>\n",
       "      <td>58.0</td>\n",
       "      <td>57.0</td>\n",
       "      <td>14581.0</td>\n",
       "      <td>ultra</td>\n",
       "      <td>1950.00000</td>\n",
       "    </tr>\n",
       "    <tr>\n",
       "      <th>10</th>\n",
       "      <td>350.0</td>\n",
       "      <td>57.0</td>\n",
       "      <td>73.0</td>\n",
       "      <td>14717.0</td>\n",
       "      <td>ultra</td>\n",
       "      <td>1950.00000</td>\n",
       "    </tr>\n",
       "    <tr>\n",
       "      <th>11</th>\n",
       "      <td>338.0</td>\n",
       "      <td>43.0</td>\n",
       "      <td>58.0</td>\n",
       "      <td>14768.0</td>\n",
       "      <td>ultra</td>\n",
       "      <td>1950.00000</td>\n",
       "    </tr>\n",
       "    <tr>\n",
       "      <th>12</th>\n",
       "      <td>333.0</td>\n",
       "      <td>46.0</td>\n",
       "      <td>70.0</td>\n",
       "      <td>9827.0</td>\n",
       "      <td>ultra</td>\n",
       "      <td>1950.00000</td>\n",
       "    </tr>\n",
       "    <tr>\n",
       "      <th rowspan=\"2\" valign=\"top\">1001</th>\n",
       "      <th>11</th>\n",
       "      <td>430.0</td>\n",
       "      <td>59.0</td>\n",
       "      <td>0.0</td>\n",
       "      <td>18452.0</td>\n",
       "      <td>smart</td>\n",
       "      <td>1153.90625</td>\n",
       "    </tr>\n",
       "    <tr>\n",
       "      <th>12</th>\n",
       "      <td>414.0</td>\n",
       "      <td>63.0</td>\n",
       "      <td>0.0</td>\n",
       "      <td>14053.0</td>\n",
       "      <td>smart</td>\n",
       "      <td>550.00000</td>\n",
       "    </tr>\n",
       "  </tbody>\n",
       "</table>\n",
       "</div>"
      ],
      "text/plain": [
       "               duration  calls  messages  mb_used tariff     revenue\n",
       "user_id month                                                       \n",
       "1000    5         159.0   22.0      22.0   2256.0  ultra  1950.00000\n",
       "        6         172.0   43.0      60.0  23257.0  ultra  1950.00000\n",
       "        7         340.0   47.0      75.0  14016.0  ultra  1950.00000\n",
       "        8         408.0   52.0      81.0  14070.0  ultra  1950.00000\n",
       "        9         466.0   58.0      57.0  14581.0  ultra  1950.00000\n",
       "        10        350.0   57.0      73.0  14717.0  ultra  1950.00000\n",
       "        11        338.0   43.0      58.0  14768.0  ultra  1950.00000\n",
       "        12        333.0   46.0      70.0   9827.0  ultra  1950.00000\n",
       "1001    11        430.0   59.0       0.0  18452.0  smart  1153.90625\n",
       "        12        414.0   63.0       0.0  14053.0  smart   550.00000"
      ]
     },
     "execution_count": 138,
     "metadata": {},
     "output_type": "execute_result"
    }
   ],
   "source": [
    "grouped.loc[grouped['duration'].isna(), 'duration'] = 0\n",
    "grouped.loc[grouped['messages'].isna(), 'messages'] = 0\n",
    "grouped.loc[grouped['mb_used'].isna(), 'mb_used'] = 0\n",
    "\n",
    "for user in grouped.index:\n",
    "    grouped.loc[user, 'tariff'] = users.loc[user[0]-1000, 'tariff']\n",
    "\n",
    "def compound_revenue(row):\n",
    "    #messages = row['messages']\n",
    "    #mb_used = row['mb_used']\n",
    "    #tariff = row['tariff']\n",
    "    #duration = row['duration']\n",
    "    #calls = row['calls']\n",
    "    \n",
    "    if row['tariff'] == 'smart':\n",
    "        extra_duration = row['duration'] - tariffs.loc[0, 'minutes_included']\n",
    "        extra_mb = row['mb_used'] - tariffs.loc[0, 'mb_per_month_included']\n",
    "        extra_messages = row['messages'] - tariffs.loc[0, 'messages_included']\n",
    "        \n",
    "        if extra_duration < 0: extra_duration = 0\n",
    "        if extra_mb < 0: extra_mb = 0\n",
    "        if extra_messages < 0: extra_messages = 0\n",
    "        \n",
    "        return (tariffs.loc[0, 'rub_per_message'] * extra_messages + \n",
    "                   (tariffs.loc[0, 'rub_per_gb'] / 1024) * extra_mb + \n",
    "                   tariffs.loc[0, 'rub_per_minute'] * extra_duration + \n",
    "                   tariffs.loc[0, 'rub_monthly_fee']\n",
    "                  ) \n",
    "    elif row['tariff'] == 'ultra':\n",
    "        extra_duration = row['duration'] - tariffs.loc[1, 'minutes_included']\n",
    "        extra_mb = row['mb_used'] - tariffs.loc[1, 'mb_per_month_included']\n",
    "        extra_messages = row['messages'] - tariffs.loc[1, 'messages_included']\n",
    "        \n",
    "        if extra_duration < 0: extra_duration = 0\n",
    "        if extra_mb < 0: extra_mb = 0\n",
    "        if extra_messages < 0: extra_messages = 0\n",
    "        \n",
    "        return (tariffs.loc[1, 'rub_per_message'] * extra_messages + \n",
    "                   (tariffs.loc[1, 'rub_per_gb'] / 1024) * extra_mb + \n",
    "                   tariffs.loc[1, 'rub_per_minute'] * extra_duration + \n",
    "                   tariffs.loc[1, 'rub_monthly_fee']\n",
    "                  )\n",
    "\n",
    "grouped['revenue'] = grouped.apply(compound_revenue, axis=1)\n",
    "grouped.head(10)"
   ]
  },
  {
   "cell_type": "markdown",
   "id": "6e79032b",
   "metadata": {},
   "source": [
    "<h1>Data Analysis</h1>\n",
    "<h2>Now we can move to statistical analysis and compute how much internet data users need monthly<h2>"
   ]
  },
  {
   "cell_type": "markdown",
   "id": "4e723ebe",
   "metadata": {},
   "source": [
    "we will compute median, variance and standart deviation:"
   ]
  },
  {
   "cell_type": "code",
   "execution_count": 139,
   "id": "b4f8cd85",
   "metadata": {},
   "outputs": [
    {
     "data": {
      "text/html": [
       "<div>\n",
       "<style scoped>\n",
       "    .dataframe tbody tr th:only-of-type {\n",
       "        vertical-align: middle;\n",
       "    }\n",
       "\n",
       "    .dataframe tbody tr th {\n",
       "        vertical-align: top;\n",
       "    }\n",
       "\n",
       "    .dataframe thead th {\n",
       "        text-align: right;\n",
       "    }\n",
       "</style>\n",
       "<table border=\"1\" class=\"dataframe\">\n",
       "  <thead>\n",
       "    <tr style=\"text-align: right;\">\n",
       "      <th></th>\n",
       "      <th>calls</th>\n",
       "      <th>duration</th>\n",
       "      <th>mb_used</th>\n",
       "      <th>messages</th>\n",
       "    </tr>\n",
       "    <tr>\n",
       "      <th>user_id</th>\n",
       "      <th></th>\n",
       "      <th></th>\n",
       "      <th></th>\n",
       "      <th></th>\n",
       "    </tr>\n",
       "  </thead>\n",
       "  <tbody>\n",
       "    <tr>\n",
       "      <th>1000</th>\n",
       "      <td>46.5</td>\n",
       "      <td>339.0</td>\n",
       "      <td>14325.5</td>\n",
       "      <td>65.0</td>\n",
       "    </tr>\n",
       "    <tr>\n",
       "      <th>1001</th>\n",
       "      <td>61.0</td>\n",
       "      <td>422.0</td>\n",
       "      <td>16252.5</td>\n",
       "      <td>0.0</td>\n",
       "    </tr>\n",
       "    <tr>\n",
       "      <th>1002</th>\n",
       "      <td>33.0</td>\n",
       "      <td>214.0</td>\n",
       "      <td>17601.0</td>\n",
       "      <td>11.0</td>\n",
       "    </tr>\n",
       "    <tr>\n",
       "      <th>1003</th>\n",
       "      <td>108.0</td>\n",
       "      <td>824.0</td>\n",
       "      <td>11368.0</td>\n",
       "      <td>83.0</td>\n",
       "    </tr>\n",
       "    <tr>\n",
       "      <th>1004</th>\n",
       "      <td>21.5</td>\n",
       "      <td>132.5</td>\n",
       "      <td>17828.5</td>\n",
       "      <td>154.5</td>\n",
       "    </tr>\n",
       "    <tr>\n",
       "      <th>...</th>\n",
       "      <td>...</td>\n",
       "      <td>...</td>\n",
       "      <td>...</td>\n",
       "      <td>...</td>\n",
       "    </tr>\n",
       "    <tr>\n",
       "      <th>1495</th>\n",
       "      <td>129.0</td>\n",
       "      <td>954.0</td>\n",
       "      <td>29393.0</td>\n",
       "      <td>82.0</td>\n",
       "    </tr>\n",
       "    <tr>\n",
       "      <th>1496</th>\n",
       "      <td>73.5</td>\n",
       "      <td>524.0</td>\n",
       "      <td>24067.5</td>\n",
       "      <td>41.5</td>\n",
       "    </tr>\n",
       "    <tr>\n",
       "      <th>1497</th>\n",
       "      <td>66.0</td>\n",
       "      <td>490.0</td>\n",
       "      <td>14174.0</td>\n",
       "      <td>17.0</td>\n",
       "    </tr>\n",
       "    <tr>\n",
       "      <th>1498</th>\n",
       "      <td>49.0</td>\n",
       "      <td>323.5</td>\n",
       "      <td>21385.0</td>\n",
       "      <td>43.0</td>\n",
       "    </tr>\n",
       "    <tr>\n",
       "      <th>1499</th>\n",
       "      <td>68.5</td>\n",
       "      <td>470.5</td>\n",
       "      <td>15443.0</td>\n",
       "      <td>53.5</td>\n",
       "    </tr>\n",
       "  </tbody>\n",
       "</table>\n",
       "<p>498 rows × 4 columns</p>\n",
       "</div>"
      ],
      "text/plain": [
       "         calls  duration  mb_used  messages\n",
       "user_id                                    \n",
       "1000      46.5     339.0  14325.5      65.0\n",
       "1001      61.0     422.0  16252.5       0.0\n",
       "1002      33.0     214.0  17601.0      11.0\n",
       "1003     108.0     824.0  11368.0      83.0\n",
       "1004      21.5     132.5  17828.5     154.5\n",
       "...        ...       ...      ...       ...\n",
       "1495     129.0     954.0  29393.0      82.0\n",
       "1496      73.5     524.0  24067.5      41.5\n",
       "1497      66.0     490.0  14174.0      17.0\n",
       "1498      49.0     323.5  21385.0      43.0\n",
       "1499      68.5     470.5  15443.0      53.5\n",
       "\n",
       "[498 rows x 4 columns]"
      ]
     },
     "execution_count": 139,
     "metadata": {},
     "output_type": "execute_result"
    }
   ],
   "source": [
    "median = grouped.pivot_table(index='user_id', values=['duration', 'calls', 'messages', 'mb_used'], aggfunc='median')\n",
    "median"
   ]
  },
  {
   "cell_type": "code",
   "execution_count": 140,
   "id": "57dc612e",
   "metadata": {},
   "outputs": [],
   "source": [
    "#user_statistics = grouped.pivot_table(index='user_id', values=['duration', 'calls', 'messages', 'mb_used'], aggfunc=[np.std, np.var, np.median])"
   ]
  },
  {
   "cell_type": "code",
   "execution_count": 141,
   "id": "100fcbe1",
   "metadata": {},
   "outputs": [],
   "source": [
    "#user_statistics"
   ]
  },
  {
   "cell_type": "code",
   "execution_count": 142,
   "id": "37297fcc",
   "metadata": {},
   "outputs": [],
   "source": [
    "user_statistics = grouped.pivot_table(index='user_id', \n",
    "                                       values=['duration', 'calls', 'messages', 'mb_used'], \n",
    "                                       aggfunc={'duration': [np.std, np.var, np.median],\n",
    "                                                'calls': [np.std, np.var, np.median],\n",
    "                                                'messages': [np.std, np.var, np.median],\n",
    "                                                'mb_used': [np.std, np.var, np.median]})"
   ]
  },
  {
   "cell_type": "code",
   "execution_count": 143,
   "id": "09d1e60d",
   "metadata": {},
   "outputs": [
    {
     "data": {
      "text/html": [
       "<div>\n",
       "<style scoped>\n",
       "    .dataframe tbody tr th:only-of-type {\n",
       "        vertical-align: middle;\n",
       "    }\n",
       "\n",
       "    .dataframe tbody tr th {\n",
       "        vertical-align: top;\n",
       "    }\n",
       "\n",
       "    .dataframe thead tr th {\n",
       "        text-align: left;\n",
       "    }\n",
       "\n",
       "    .dataframe thead tr:last-of-type th {\n",
       "        text-align: right;\n",
       "    }\n",
       "</style>\n",
       "<table border=\"1\" class=\"dataframe\">\n",
       "  <thead>\n",
       "    <tr>\n",
       "      <th></th>\n",
       "      <th colspan=\"3\" halign=\"left\">duration</th>\n",
       "      <th colspan=\"3\" halign=\"left\">mb_used</th>\n",
       "      <th colspan=\"3\" halign=\"left\">messages</th>\n",
       "    </tr>\n",
       "    <tr>\n",
       "      <th></th>\n",
       "      <th>median</th>\n",
       "      <th>std</th>\n",
       "      <th>var</th>\n",
       "      <th>median</th>\n",
       "      <th>std</th>\n",
       "      <th>var</th>\n",
       "      <th>median</th>\n",
       "      <th>std</th>\n",
       "      <th>var</th>\n",
       "    </tr>\n",
       "    <tr>\n",
       "      <th>tariff</th>\n",
       "      <th></th>\n",
       "      <th></th>\n",
       "      <th></th>\n",
       "      <th></th>\n",
       "      <th></th>\n",
       "      <th></th>\n",
       "      <th></th>\n",
       "      <th></th>\n",
       "      <th></th>\n",
       "    </tr>\n",
       "  </thead>\n",
       "  <tbody>\n",
       "    <tr>\n",
       "      <th>smart</th>\n",
       "      <td>439.75</td>\n",
       "      <td>160.266622</td>\n",
       "      <td>25685.390127</td>\n",
       "      <td>16948.0</td>\n",
       "      <td>4179.542704</td>\n",
       "      <td>1.746858e+07</td>\n",
       "      <td>28.5</td>\n",
       "      <td>28.010653</td>\n",
       "      <td>784.596662</td>\n",
       "    </tr>\n",
       "    <tr>\n",
       "      <th>ultra</th>\n",
       "      <td>535.25</td>\n",
       "      <td>303.793641</td>\n",
       "      <td>92290.576519</td>\n",
       "      <td>19750.5</td>\n",
       "      <td>8901.168701</td>\n",
       "      <td>7.923080e+07</td>\n",
       "      <td>47.5</td>\n",
       "      <td>49.236809</td>\n",
       "      <td>2424.263318</td>\n",
       "    </tr>\n",
       "  </tbody>\n",
       "</table>\n",
       "</div>"
      ],
      "text/plain": [
       "       duration                            mb_used                             \\\n",
       "         median         std           var   median          std           var   \n",
       "tariff                                                                          \n",
       "smart    439.75  160.266622  25685.390127  16948.0  4179.542704  1.746858e+07   \n",
       "ultra    535.25  303.793641  92290.576519  19750.5  8901.168701  7.923080e+07   \n",
       "\n",
       "       messages                          \n",
       "         median        std          var  \n",
       "tariff                                   \n",
       "smart      28.5  28.010653   784.596662  \n",
       "ultra      47.5  49.236809  2424.263318  "
      ]
     },
     "execution_count": 143,
     "metadata": {},
     "output_type": "execute_result"
    }
   ],
   "source": [
    "for user_id in users['user_id']:\n",
    "    median.loc[user_id, 'tariff'] = users.loc[user_id-1000, 'tariff']\n",
    "    \n",
    "median.dropna(subset=['duration'], inplace=True)\n",
    "tariff_statistics = median.pivot_table(index=['tariff'], values=['duration', 'mb_used', 'messages'], \n",
    "                    aggfunc={'duration': [np.median, np.var, np.std], \n",
    "                             'mb_used': [np.median, np.var, np.std], \n",
    "                             'messages': [np.median, np.var, np.std]})\n",
    "tariff_statistics\n"
   ]
  },
  {
   "cell_type": "code",
   "execution_count": 144,
   "id": "0db1a70e",
   "metadata": {},
   "outputs": [
    {
     "data": {
      "image/png": "[encoded data removed]",
      "text/plain": [
       "<Figure size 500x500 with 1 Axes>"
      ]
     },
     "metadata": {},
     "output_type": "display_data"
    },
    {
     "data": {
      "image/png": "[encoded data removed]",
      "text/plain": [
       "<Figure size 500x500 with 1 Axes>"
      ]
     },
     "metadata": {},
     "output_type": "display_data"
    },
    {
     "data": {
      "image/png": "[encoded data removed]",
      "text/plain": [
       "<Figure size 500x500 with 1 Axes>"
      ]
     },
     "metadata": {},
     "output_type": "display_data"
    }
   ],
   "source": [
    "for column in ['duration', 'mb_used', 'messages']:    \n",
    "    sns.catplot(x=\"tariff\", y=column, kind=\"box\", data=median, orient='v')"
   ]
  },
  {
   "cell_type": "markdown",
   "id": "45a36965",
   "metadata": {},
   "source": [
    "Call minutes, the number of messages, and the amount of Internet traffic spent in <b>Ultra</b> tariff have a larger dispersion than <b>Smart</b> tariff, and the medians for the above attributes are also shifted to the higher side. In addition, the drop outs within the cheaper tariff (smart) are significantly higher.\n",
    "\n",
    "<h2> The behavior of ULTRA tariff users is more diverse in terms of consumption of telecommunications services. The users of the expensive tariff are more free to choose how exactly to use the volume of the tariff package: perhaps, using the expensive tariff helps them not to think about the fact that at some point they will have to turn off the Internet or run out of minutes of talk time. "
   ]
  },
  {
   "cell_type": "markdown",
   "id": "43c29985",
   "metadata": {},
   "source": [
    "<h3> Lets confirm the hypothesis that the revenue coming from the users of both tariffs differ and moreover, that the users of ULTRA tariff make a bigger proportion of revenue compared to the tariff SMART</h3>"
   ]
  },
  {
   "cell_type": "markdown",
   "id": "eb39de13",
   "metadata": {},
   "source": [
    "<b>H0</b>  — mean revenue of users of 'Smart' tariff does not differ from the revenue coming from 'Ultra' tariff.\n",
    "\n",
    "<b>H1</b>  — the revenue of both tarrifs differ.\n",
    "\n",
    "<b> α</b> =5%"
   ]
  },
  {
   "cell_type": "code",
   "execution_count": 145,
   "id": "6671c7d3",
   "metadata": {},
   "outputs": [
    {
     "name": "stdout",
     "output_type": "stream",
     "text": [
      "H0 can be rejected\n",
      " p-value is...8.931402711368788e-296, that means, we can reject the null hypothesis\n"
     ]
    }
   ],
   "source": [
    "import scipy as sp\n",
    "smart = grouped.query('tariff == \"smart\"')['revenue']\n",
    "ultra = grouped.query('tariff == \"ultra\"')['revenue']\n",
    "a = 0.05\n",
    "t_test = sp.stats.ttest_ind(smart, ultra, equal_var=False)\n",
    "if t_test.pvalue < a:\n",
    "    print('H0 can be rejected')\n",
    "else: print('H0 can not be rejected')\n",
    "print(f' p-value is...{t_test.pvalue}, that means, we can reject the null hypothesis')"
   ]
  },
  {
   "cell_type": "code",
   "execution_count": 146,
   "id": "9a5875a9",
   "metadata": {},
   "outputs": [
    {
     "data": {
      "text/html": [
       "<div>\n",
       "<style scoped>\n",
       "    .dataframe tbody tr th:only-of-type {\n",
       "        vertical-align: middle;\n",
       "    }\n",
       "\n",
       "    .dataframe tbody tr th {\n",
       "        vertical-align: top;\n",
       "    }\n",
       "\n",
       "    .dataframe thead th {\n",
       "        text-align: right;\n",
       "    }\n",
       "</style>\n",
       "<table border=\"1\" class=\"dataframe\">\n",
       "  <thead>\n",
       "    <tr style=\"text-align: right;\">\n",
       "      <th></th>\n",
       "      <th>revenue</th>\n",
       "    </tr>\n",
       "    <tr>\n",
       "      <th>tariff</th>\n",
       "      <th></th>\n",
       "    </tr>\n",
       "  </thead>\n",
       "  <tbody>\n",
       "    <tr>\n",
       "      <th>smart</th>\n",
       "      <td>1233.349467</td>\n",
       "    </tr>\n",
       "    <tr>\n",
       "      <th>ultra</th>\n",
       "      <td>2060.529971</td>\n",
       "    </tr>\n",
       "  </tbody>\n",
       "</table>\n",
       "</div>"
      ],
      "text/plain": [
       "            revenue\n",
       "tariff             \n",
       "smart   1233.349467\n",
       "ultra   2060.529971"
      ]
     },
     "execution_count": 146,
     "metadata": {},
     "output_type": "execute_result"
    }
   ],
   "source": [
    "grouped.pivot_table(index='tariff', values='revenue', aggfunc='mean')"
   ]
  },
  {
   "cell_type": "code",
   "execution_count": 147,
   "id": "2bd0936e",
   "metadata": {},
   "outputs": [
    {
     "data": {
      "text/html": [
       "<div>\n",
       "<style scoped>\n",
       "    .dataframe tbody tr th:only-of-type {\n",
       "        vertical-align: middle;\n",
       "    }\n",
       "\n",
       "    .dataframe tbody tr th {\n",
       "        vertical-align: top;\n",
       "    }\n",
       "\n",
       "    .dataframe thead th {\n",
       "        text-align: right;\n",
       "    }\n",
       "</style>\n",
       "<table border=\"1\" class=\"dataframe\">\n",
       "  <thead>\n",
       "    <tr style=\"text-align: right;\">\n",
       "      <th></th>\n",
       "      <th>revenue</th>\n",
       "    </tr>\n",
       "    <tr>\n",
       "      <th>tariff</th>\n",
       "      <th></th>\n",
       "    </tr>\n",
       "  </thead>\n",
       "  <tbody>\n",
       "    <tr>\n",
       "      <th>smart</th>\n",
       "      <td>959.898438</td>\n",
       "    </tr>\n",
       "    <tr>\n",
       "      <th>ultra</th>\n",
       "      <td>1950.000000</td>\n",
       "    </tr>\n",
       "  </tbody>\n",
       "</table>\n",
       "</div>"
      ],
      "text/plain": [
       "            revenue\n",
       "tariff             \n",
       "smart    959.898438\n",
       "ultra   1950.000000"
      ]
     },
     "execution_count": 147,
     "metadata": {},
     "output_type": "execute_result"
    }
   ],
   "source": [
    "grouped.pivot_table(index='tariff', values='revenue', aggfunc='median')"
   ]
  },
  {
   "cell_type": "code",
   "execution_count": 148,
   "id": "b7c6bf41",
   "metadata": {},
   "outputs": [
    {
     "data": {
      "text/plain": [
       "<seaborn.axisgrid.FacetGrid at 0x29d560edbe0>"
      ]
     },
     "execution_count": 148,
     "metadata": {},
     "output_type": "execute_result"
    },
    {
     "data": {
      "image/png": "[encoded data removed]",
      "text/plain": [
       "<Figure size 500x500 with 1 Axes>"
      ]
     },
     "metadata": {},
     "output_type": "display_data"
    }
   ],
   "source": [
    "sns.catplot(x=\"tariff\", y='revenue', kind=\"bar\", data=grouped, orient='v')"
   ]
  },
  {
   "cell_type": "markdown",
   "id": "04b56813",
   "metadata": {},
   "source": [
    "<h3> With that we can postulate, with a 95% probability, that the revenue, that the company gets from clients using ULTRA tariff differs from that of ULTRA tariff clients, moreover, the company receives almost twice as much revenue from the clients, that use ULTRA tariff<h3>"
   ]
  },
  {
   "cell_type": "markdown",
   "id": "68282e21",
   "metadata": {},
   "source": [
    "<h5>We will do the same process to determine whether the revenue coming form users that live in Moscow city differ from those who live in regions</h5>\n",
    "\n",
    "<b>H0</b>  — Mean revenue of Moscow users is equal to the revenue coming from users living outside Moscow\n",
    "\n",
    "<b>H1</b>  — Mean revenue differs.\n",
    "\n",
    "<b>α</b> =1%"
   ]
  },
  {
   "cell_type": "code",
   "execution_count": 149,
   "id": "01e2d1f0",
   "metadata": {},
   "outputs": [
    {
     "name": "stdout",
     "output_type": "stream",
     "text": [
      "H0 can not be rejected\n"
     ]
    }
   ],
   "source": [
    "for user in grouped.index:\n",
    "    grouped.loc[user, 'city'] = users.loc[user[0]-1000, 'city']\n",
    "\n",
    "moscow = grouped.query('city == \"Москва\"')['revenue']\n",
    "regions = grouped.query('city != \"Москва\"')['revenue']\n",
    "\n",
    "t_test2 = sp.stats.ttest_ind(moscow, regions, equal_var=False)\n",
    "if t_test2.pvalue < a:\n",
    "    print('H0 can be rejected')\n",
    "else: print('H0 can not be rejected')"
   ]
  },
  {
   "cell_type": "code",
   "execution_count": 150,
   "id": "c59fc1d8",
   "metadata": {},
   "outputs": [
    {
     "data": {
      "text/plain": [
       "0.4549775646471024"
      ]
     },
     "execution_count": 150,
     "metadata": {},
     "output_type": "execute_result"
    }
   ],
   "source": [
    "t_test2.pvalue\n"
   ]
  },
  {
   "cell_type": "code",
   "execution_count": 151,
   "id": "010151b0",
   "metadata": {},
   "outputs": [
    {
     "data": {
      "text/html": [
       "<div>\n",
       "<style scoped>\n",
       "    .dataframe tbody tr th:only-of-type {\n",
       "        vertical-align: middle;\n",
       "    }\n",
       "\n",
       "    .dataframe tbody tr th {\n",
       "        vertical-align: top;\n",
       "    }\n",
       "\n",
       "    .dataframe thead th {\n",
       "        text-align: right;\n",
       "    }\n",
       "</style>\n",
       "<table border=\"1\" class=\"dataframe\">\n",
       "  <thead>\n",
       "    <tr style=\"text-align: right;\">\n",
       "      <th></th>\n",
       "      <th>revenue</th>\n",
       "    </tr>\n",
       "    <tr>\n",
       "      <th>region</th>\n",
       "      <th></th>\n",
       "    </tr>\n",
       "  </thead>\n",
       "  <tbody>\n",
       "    <tr>\n",
       "      <th>Moscow</th>\n",
       "      <td>1507.276762</td>\n",
       "    </tr>\n",
       "    <tr>\n",
       "      <th>Region</th>\n",
       "      <td>1482.063727</td>\n",
       "    </tr>\n",
       "  </tbody>\n",
       "</table>\n",
       "</div>"
      ],
      "text/plain": [
       "            revenue\n",
       "region             \n",
       "Moscow  1507.276762\n",
       "Region  1482.063727"
      ]
     },
     "execution_count": 151,
     "metadata": {},
     "output_type": "execute_result"
    }
   ],
   "source": [
    "\n",
    "#grouped['region'] = ['Москва' for i in grouped['region'] if city == 'Москва' else 'Регион']#grouped.query('city == \"Москва\"')\n",
    "def city(city):\n",
    "    if city == 'Москва':\n",
    "        return 'Moscow'\n",
    "    else: \n",
    "        return 'Region'\n",
    "\n",
    "grouped['region'] = grouped['city'].apply(city)\n",
    "moscow_pivot = grouped.pivot_table(index='region', values='revenue', aggfunc='mean')\n",
    "moscow_pivot"
   ]
  },
  {
   "cell_type": "code",
   "execution_count": 152,
   "id": "b1ab8532",
   "metadata": {},
   "outputs": [
    {
     "data": {
      "text/html": [
       "<div>\n",
       "<style scoped>\n",
       "    .dataframe tbody tr th:only-of-type {\n",
       "        vertical-align: middle;\n",
       "    }\n",
       "\n",
       "    .dataframe tbody tr th {\n",
       "        vertical-align: top;\n",
       "    }\n",
       "\n",
       "    .dataframe thead th {\n",
       "        text-align: right;\n",
       "    }\n",
       "</style>\n",
       "<table border=\"1\" class=\"dataframe\">\n",
       "  <thead>\n",
       "    <tr style=\"text-align: right;\">\n",
       "      <th></th>\n",
       "      <th>revenue</th>\n",
       "    </tr>\n",
       "    <tr>\n",
       "      <th>region</th>\n",
       "      <th></th>\n",
       "    </tr>\n",
       "  </thead>\n",
       "  <tbody>\n",
       "    <tr>\n",
       "      <th>Moscow</th>\n",
       "      <td>1704.632812</td>\n",
       "    </tr>\n",
       "    <tr>\n",
       "      <th>Region</th>\n",
       "      <td>1518.078125</td>\n",
       "    </tr>\n",
       "  </tbody>\n",
       "</table>\n",
       "</div>"
      ],
      "text/plain": [
       "            revenue\n",
       "region             \n",
       "Moscow  1704.632812\n",
       "Region  1518.078125"
      ]
     },
     "execution_count": 152,
     "metadata": {},
     "output_type": "execute_result"
    }
   ],
   "source": [
    "\n",
    "moscow_pivot_median = grouped.pivot_table(index='region', values='revenue', aggfunc='median')\n",
    "moscow_pivot_median"
   ]
  },
  {
   "cell_type": "markdown",
   "id": "bd47c804",
   "metadata": {},
   "source": [
    "<h2>With this we can conclude, with the probability of 95 percent, that the revenue in Moscow and in region do not differ<h2>"
   ]
  },
  {
   "cell_type": "code",
   "execution_count": 153,
   "id": "90021631",
   "metadata": {},
   "outputs": [
    {
     "data": {
      "text/plain": [
       "<seaborn.axisgrid.FacetGrid at 0x29d5dd87b20>"
      ]
     },
     "execution_count": 153,
     "metadata": {},
     "output_type": "execute_result"
    },
    {
     "data": {
      "image/png": "[encoded data removed]",
      "text/plain": [
       "<Figure size 500x500 with 1 Axes>"
      ]
     },
     "metadata": {},
     "output_type": "display_data"
    }
   ],
   "source": [
    "sns.catplot(x=\"region\", y='revenue', kind=\"box\", data=grouped, orient='v')\n",
    "    \n",
    "    "
   ]
  },
  {
   "cell_type": "markdown",
   "id": "3097296e",
   "metadata": {},
   "source": [
    "According to the results of statistical analysis, <b>income from Ultra tariff is higher than from Smart</b> tariff: on average, Megaline receives: <b>2060.53 rubles and 1233.35 rubles</b> from one user per month respectively.\n",
    "\n",
    "<h3>Peculiarities of tariffs usage are as follows:</h3>\n",
    "\n",
    "<h5>Average income from users in Moscow does not differ from income in other localities: the difference is statistically insignificant (p-value: 0.454, so if we said that the revenue differs, we would be wrong with a 45 percent probability) and amounts to 188 rubles: 1704.63 rubles in Moscow versus 1518.01 rubles in other localities. </h5>"
   ]
  }
 ],
 "metadata": {
  "kernelspec": {
   "display_name": "Python 3 (ipykernel)",
   "language": "python",
   "name": "python3"
  },
  "language_info": {
   "codemirror_mode": {
    "name": "ipython",
    "version": 3
   },
   "file_extension": ".py",
   "mimetype": "text/x-python",
   "name": "python",
   "nbconvert_exporter": "python",
   "pygments_lexer": "ipython3",
   "version": "3.9.13"
  }
 },
 "nbformat": 4,
 "nbformat_minor": 5
}
